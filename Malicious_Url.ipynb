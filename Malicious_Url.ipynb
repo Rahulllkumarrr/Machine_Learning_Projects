{
  "nbformat": 4,
  "nbformat_minor": 0,
  "metadata": {
    "colab": {
      "name": "Malicious Url",
      "version": "0.3.2",
      "provenance": [],
      "collapsed_sections": [
        "coapacdok1sD",
        "ZurJm6YKiNgj",
        "XZpiGfX_Cqqw",
        "r8rY3RI7Q5U_"
      ]
    },
    "kernelspec": {
      "name": "python3",
      "display_name": "Python 3"
    },
    "accelerator": "TPU"
  },
  "cells": [
    {
      "cell_type": "markdown",
      "metadata": {
        "id": "coapacdok1sD",
        "colab_type": "text"
      },
      "source": [
        "## Initializing Libraries and Datasets"
      ]
    },
    {
      "cell_type": "code",
      "metadata": {
        "id": "0DhE6G8yBWhL",
        "colab_type": "code",
        "colab": {}
      },
      "source": [
        "import urllib\n",
        "import time\n",
        "%matplotlib inline\n",
        "import numpy as np\n",
        "import pandas as pd\n",
        "from sklearn import metrics\n",
        "import matplotlib.pyplot as plt\n",
        "from sklearn.metrics import precision_score\n",
        "from sklearn.metrics import recall_score\n",
        "from sklearn.metrics import f1_score\n",
        "from sklearn.metrics import confusion_matrix\n",
        "from sklearn.metrics import accuracy_score\n",
        "from sklearn.naive_bayes import MultinomialNB\n",
        "from sklearn.model_selection import train_test_split\n",
        "from sklearn.feature_extraction.text import TfidfVectorizer\n",
        "from sklearn.feature_extraction.text import CountVectorizer"
      ],
      "execution_count": 0,
      "outputs": []
    },
    {
      "cell_type": "code",
      "metadata": {
        "id": "bdbPYRv4BXEI",
        "colab_type": "code",
        "colab": {}
      },
      "source": [
        "data = pd.read_csv('https://raw.githubusercontent.com/faizann24/Using-machine-learning-to-detect-malicious-URLs/master/data/data.csv')\n",
        "table=[[]]\n",
        "row=[]"
      ],
      "execution_count": 0,
      "outputs": []
    },
    {
      "cell_type": "code",
      "metadata": {
        "id": "Zc3bAvJg4hBC",
        "colab_type": "code",
        "outputId": "12fa0969-4056-4bce-c612-23aa83d3a320",
        "colab": {
          "base_uri": "https://localhost:8080/",
          "height": 54
        }
      },
      "source": [
        "len(data)"
      ],
      "execution_count": 0,
      "outputs": [
        {
          "output_type": "execute_result",
          "data": {
            "text/plain": [
              "420464"
            ]
          },
          "metadata": {
            "tags": []
          },
          "execution_count": 3
        }
      ]
    },
    {
      "cell_type": "code",
      "metadata": {
        "id": "qtXwS8qnBXiA",
        "colab_type": "code",
        "outputId": "f6a67461-4894-4cc0-e0aa-29da0c2db8a5",
        "colab": {
          "base_uri": "https://localhost:8080/",
          "height": 224
        }
      },
      "source": [
        "data.head()\n"
      ],
      "execution_count": 0,
      "outputs": [
        {
          "output_type": "execute_result",
          "data": {
            "text/html": [
              "<div>\n",
              "<style scoped>\n",
              "    .dataframe tbody tr th:only-of-type {\n",
              "        vertical-align: middle;\n",
              "    }\n",
              "\n",
              "    .dataframe tbody tr th {\n",
              "        vertical-align: top;\n",
              "    }\n",
              "\n",
              "    .dataframe thead th {\n",
              "        text-align: right;\n",
              "    }\n",
              "</style>\n",
              "<table border=\"1\" class=\"dataframe\">\n",
              "  <thead>\n",
              "    <tr style=\"text-align: right;\">\n",
              "      <th></th>\n",
              "      <th>url</th>\n",
              "      <th>label</th>\n",
              "    </tr>\n",
              "  </thead>\n",
              "  <tbody>\n",
              "    <tr>\n",
              "      <th>0</th>\n",
              "      <td>diaryofagameaddict.com</td>\n",
              "      <td>bad</td>\n",
              "    </tr>\n",
              "    <tr>\n",
              "      <th>1</th>\n",
              "      <td>espdesign.com.au</td>\n",
              "      <td>bad</td>\n",
              "    </tr>\n",
              "    <tr>\n",
              "      <th>2</th>\n",
              "      <td>iamagameaddict.com</td>\n",
              "      <td>bad</td>\n",
              "    </tr>\n",
              "    <tr>\n",
              "      <th>3</th>\n",
              "      <td>kalantzis.net</td>\n",
              "      <td>bad</td>\n",
              "    </tr>\n",
              "    <tr>\n",
              "      <th>4</th>\n",
              "      <td>slightlyoffcenter.net</td>\n",
              "      <td>bad</td>\n",
              "    </tr>\n",
              "  </tbody>\n",
              "</table>\n",
              "</div>"
            ],
            "text/plain": [
              "                      url label\n",
              "0  diaryofagameaddict.com   bad\n",
              "1        espdesign.com.au   bad\n",
              "2      iamagameaddict.com   bad\n",
              "3           kalantzis.net   bad\n",
              "4   slightlyoffcenter.net   bad"
            ]
          },
          "metadata": {
            "tags": []
          },
          "execution_count": 4
        }
      ]
    },
    {
      "cell_type": "code",
      "metadata": {
        "id": "s-Eqb5E1BYbg",
        "colab_type": "code",
        "outputId": "84cbcfce-f175-4116-a177-3bca711b614c",
        "colab": {
          "base_uri": "https://localhost:8080/",
          "height": 318
        }
      },
      "source": [
        "#ploting the count between the good and bad urls\n",
        "import seaborn as sns\n",
        "s = data['label'].value_counts()\n",
        "sns.barplot(x=s.values, y=s.index)\n",
        "plt.title('Data Distribution')"
      ],
      "execution_count": 0,
      "outputs": [
        {
          "output_type": "execute_result",
          "data": {
            "text/plain": [
              "Text(0.5, 1.0, 'Data Distribution')"
            ]
          },
          "metadata": {
            "tags": []
          },
          "execution_count": 5
        },
        {
          "output_type": "display_data",
          "data": {
            "image/png": "[encoded data removed]",
            "text/plain": [
              "<Figure size 432x288 with 1 Axes>"
            ]
          },
          "metadata": {
            "tags": []
          }
        }
      ]
    },
    {
      "cell_type": "code",
      "metadata": {
        "id": "bLE2WQCdBcSK",
        "colab_type": "code",
        "outputId": "b0e7d554-c35c-43ce-93b8-9e233ba829fa",
        "colab": {
          "base_uri": "https://localhost:8080/",
          "height": 332
        }
      },
      "source": [
        "s1 = data[data['label'] == 'good']['url'].str.len()\n",
        "sns.distplot(s1, label='good url')\n",
        "s2 = data[data['label'] == 'bad']['url'].str.len()\n",
        "sns.distplot(s2, label='bad url')\n",
        "plt.title('Length Distribution')\n",
        "plt.legend()"
      ],
      "execution_count": 0,
      "outputs": [
        {
          "output_type": "execute_result",
          "data": {
            "text/plain": [
              "<matplotlib.legend.Legend at 0x7ff8fbfec400>"
            ]
          },
          "metadata": {
            "tags": []
          },
          "execution_count": 6
        },
        {
          "output_type": "display_data",
          "data": {
            "image/png": "[encoded data removed]",
            "text/plain": [
              "<Figure size 432x288 with 1 Axes>"
            ]
          },
          "metadata": {
            "tags": []
          }
        }
      ]
    },
    {
      "cell_type": "code",
      "metadata": {
        "id": "Xitm2x5sBcQF",
        "colab_type": "code",
        "outputId": "9792cc57-c635-4f28-9bed-7a75ea0ac8ad",
        "colab": {
          "base_uri": "https://localhost:8080/",
          "height": 54
        }
      },
      "source": [
        "#mean of Good Urls and Bad Urls\n",
        "print(s1.mean(), s2.mean())"
      ],
      "execution_count": 0,
      "outputs": [
        {
          "output_type": "stream",
          "text": [
            "47.00109912099321 54.455111510648706\n"
          ],
          "name": "stdout"
        }
      ]
    },
    {
      "cell_type": "code",
      "metadata": {
        "id": "3mSqO52jBcMx",
        "colab_type": "code",
        "outputId": "8374bfdc-e15f-4827-c8f6-e8cec450a022",
        "colab": {
          "base_uri": "https://localhost:8080/",
          "height": 332
        }
      },
      "source": [
        "# we can notice that bad urls have length longer than the good urls and KDE represents digits in samples of good and bad urls with density function\n",
        "s1 = data[data['label'] == 'good']['url'].str.replace(r'\\D+', '').str.len()\n",
        "sns.distplot(s1, label='Good URL')\n",
        "s2 = data[data['label'] == 'bad']['url'].str.replace(r'\\D+', '').str.len()\n",
        "sns.distplot(s2, label='Bad URL')\n",
        "plt.title('Digits Distribution')\n",
        "plt.legend()"
      ],
      "execution_count": 0,
      "outputs": [
        {
          "output_type": "execute_result",
          "data": {
            "text/plain": [
              "<matplotlib.legend.Legend at 0x7ff8fb5a00b8>"
            ]
          },
          "metadata": {
            "tags": []
          },
          "execution_count": 8
        },
        {
          "output_type": "display_data",
          "data": {
            "image/png": "[encoded data removed]",
            "text/plain": [
              "<Figure size 432x288 with 1 Axes>"
            ]
          },
          "metadata": {
            "tags": []
          }
        }
      ]
    },
    {
      "cell_type": "code",
      "metadata": {
        "id": "100SMs1XBcJ2",
        "colab_type": "code",
        "outputId": "5d08b2de-f6e7-4024-d702-f7e23b8ce6cf",
        "colab": {
          "base_uri": "https://localhost:8080/",
          "height": 54
        }
      },
      "source": [
        "#Average Length of the digits in good  and bad urls \n",
        "print(s1.mean(), s2.mean())"
      ],
      "execution_count": 0,
      "outputs": [
        {
          "output_type": "stream",
          "text": [
            "3.3559353983661087 6.630236770091086\n"
          ],
          "name": "stdout"
        }
      ]
    },
    {
      "cell_type": "code",
      "metadata": {
        "id": "P4kRI1-sBcGi",
        "colab_type": "code",
        "outputId": "fad224cf-3b2b-4eb1-c7a5-5a907a0243d1",
        "colab": {
          "base_uri": "https://localhost:8080/",
          "height": 332
        }
      },
      "source": [
        "#KDE plot is drawn with non-digits in good and bad urls and kernel density function\n",
        "s1 = data[data['label'] == 'good']['url'].str.replace(r'\\w+', '').str.len()\n",
        "sns.distplot(s1, label='Good URL')\n",
        "s2 = data[data['label'] == 'bad']['url'].str.replace(r'\\w+', '').str.len()\n",
        "sns.distplot(s2, label='Bad URL')\n",
        "plt.title('Non-Digits Distribution')\n",
        "plt.legend()"
      ],
      "execution_count": 0,
      "outputs": [
        {
          "output_type": "execute_result",
          "data": {
            "text/plain": [
              "<matplotlib.legend.Legend at 0x7ff8fa9b0978>"
            ]
          },
          "metadata": {
            "tags": []
          },
          "execution_count": 10
        },
        {
          "output_type": "display_data",
          "data": {
            "image/png": "[encoded data removed]",
            "text/plain": [
              "<Figure size 432x288 with 1 Axes>"
            ]
          },
          "metadata": {
            "tags": []
          }
        }
      ]
    },
    {
      "cell_type": "code",
      "metadata": {
        "id": "ccTmuCbdBcDl",
        "colab_type": "code",
        "outputId": "1fbf229b-4161-4ea5-f796-1ea1c043921d",
        "colab": {
          "base_uri": "https://localhost:8080/",
          "height": 54
        }
      },
      "source": [
        "#Average length of the non-digits in the good and bad urls\n",
        "print(s1.mean(), s2.mean())"
      ],
      "execution_count": 0,
      "outputs": [
        {
          "output_type": "stream",
          "text": [
            "6.100185313539488 6.825139140435995\n"
          ],
          "name": "stdout"
        }
      ]
    },
    {
      "cell_type": "code",
      "metadata": {
        "id": "nC34OxqPBcAo",
        "colab_type": "code",
        "outputId": "479236c1-9f68-42ec-82ed-2a6a7eb3365a",
        "colab": {
          "base_uri": "https://localhost:8080/",
          "height": 193
        }
      },
      "source": [
        "#exploiting the label coloumns with url count, unique and frequency of each url\n",
        "data.groupby('label').describe()"
      ],
      "execution_count": 0,
      "outputs": [
        {
          "output_type": "execute_result",
          "data": {
            "text/html": [
              "<div>\n",
              "<style scoped>\n",
              "    .dataframe tbody tr th:only-of-type {\n",
              "        vertical-align: middle;\n",
              "    }\n",
              "\n",
              "    .dataframe tbody tr th {\n",
              "        vertical-align: top;\n",
              "    }\n",
              "\n",
              "    .dataframe thead tr th {\n",
              "        text-align: left;\n",
              "    }\n",
              "\n",
              "    .dataframe thead tr:last-of-type th {\n",
              "        text-align: right;\n",
              "    }\n",
              "</style>\n",
              "<table border=\"1\" class=\"dataframe\">\n",
              "  <thead>\n",
              "    <tr>\n",
              "      <th></th>\n",
              "      <th colspan=\"4\" halign=\"left\">url</th>\n",
              "    </tr>\n",
              "    <tr>\n",
              "      <th></th>\n",
              "      <th>count</th>\n",
              "      <th>unique</th>\n",
              "      <th>top</th>\n",
              "      <th>freq</th>\n",
              "    </tr>\n",
              "    <tr>\n",
              "      <th>label</th>\n",
              "      <th></th>\n",
              "      <th></th>\n",
              "      <th></th>\n",
              "      <th></th>\n",
              "    </tr>\n",
              "  </thead>\n",
              "  <tbody>\n",
              "    <tr>\n",
              "      <th>bad</th>\n",
              "      <td>75643</td>\n",
              "      <td>66448</td>\n",
              "      <td>d11m2p9mpffp32.cloudfront.net/main/web_zt.exe</td>\n",
              "      <td>27</td>\n",
              "    </tr>\n",
              "    <tr>\n",
              "      <th>good</th>\n",
              "      <td>344821</td>\n",
              "      <td>344800</td>\n",
              "      <td>dnr.mo.gov/shpo/Jackson.htm</td>\n",
              "      <td>2</td>\n",
              "    </tr>\n",
              "  </tbody>\n",
              "</table>\n",
              "</div>"
            ],
            "text/plain": [
              "          url                                                            \n",
              "        count  unique                                            top freq\n",
              "label                                                                    \n",
              "bad     75643   66448  d11m2p9mpffp32.cloudfront.net/main/web_zt.exe   27\n",
              "good   344821  344800                    dnr.mo.gov/shpo/Jackson.htm    2"
            ]
          },
          "metadata": {
            "tags": []
          },
          "execution_count": 12
        }
      ]
    },
    {
      "cell_type": "code",
      "metadata": {
        "id": "g-13J_qfBb-A",
        "colab_type": "code",
        "colab": {}
      },
      "source": [
        "d={'bad':0,'good':1}\n",
        "data['label']=data['label'].apply(lambda x:d[x])"
      ],
      "execution_count": 0,
      "outputs": []
    },
    {
      "cell_type": "code",
      "metadata": {
        "id": "Ldxa23UwBb7J",
        "colab_type": "code",
        "colab": {}
      },
      "source": [
        "from sklearn.model_selection import train_test_split\n",
        "X_train, X_test, y_train, y_test = train_test_split(data['url'], data['label'], test_size=0.2, random_state=2)"
      ],
      "execution_count": 0,
      "outputs": []
    },
    {
      "cell_type": "code",
      "metadata": {
        "id": "uWmBub2RadYJ",
        "colab_type": "code",
        "colab": {}
      },
      "source": [
        "def add_feature(X, feature_to_add):\n",
        "    \"\"\"\n",
        "    Returns sparse feature matrix with added feature.\n",
        "    feature_to_add can also be a list of features.\n",
        "    \"\"\"\n",
        "    from scipy.sparse import csr_matrix, hstack  #new features are creatCSR(sparse matrix) of coloumn wise matrix \n",
        "    return hstack([X, csr_matrix(feature_to_add).T], 'csr')"
      ],
      "execution_count": 0,
      "outputs": []
    },
    {
      "cell_type": "code",
      "metadata": {
        "id": "U8EImmTLRpwM",
        "colab_type": "code",
        "colab": {}
      },
      "source": [
        "def plot_precision_and_recall(precision, recall, threshold):\n",
        "    plt.plot(threshold, precision[:-1], \"r-\", label=\"precision\", linewidth=5)\n",
        "    plt.plot(threshold, recall[:-1], \"b\", label=\"recall\", linewidth=5)\n",
        "    plt.xlabel(\"threshold\", fontsize=19)\n",
        "    plt.legend(loc=\"upper right\", fontsize=19)\n",
        "    plt.ylim([0, 1])"
      ],
      "execution_count": 0,
      "outputs": []
    },
    {
      "cell_type": "code",
      "metadata": {
        "id": "Cn1sD0MNcRO2",
        "colab_type": "code",
        "colab": {}
      },
      "source": [
        "vect = TfidfVectorizer(min_df=5).fit(X_train)\n",
        "X_train_vectorized = vect.transform(X_train)\n",
        "X_train_vectorized = add_feature(X_train_vectorized, X_train.str.len()) #training the model with feature names and length of it "
      ],
      "execution_count": 0,
      "outputs": []
    },
    {
      "cell_type": "markdown",
      "metadata": {
        "id": "ZurJm6YKiNgj",
        "colab_type": "text"
      },
      "source": [
        "# **MODEL 1**"
      ]
    },
    {
      "cell_type": "markdown",
      "metadata": {
        "id": "aJQZC_oeiGSH",
        "colab_type": "text"
      },
      "source": [
        "### **Multinomial Naive Bayes**"
      ]
    },
    {
      "cell_type": "code",
      "metadata": {
        "id": "8QvaEU-WBbUt",
        "colab_type": "code",
        "outputId": "b215de5d-6359-4898-ebb3-ae689bb2d11d",
        "colab": {
          "base_uri": "https://localhost:8080/",
          "height": 34
        }
      },
      "source": [
        "from sklearn.naive_bayes import MultinomialNB\n",
        "model = MultinomialNB(alpha=0.1)\n",
        "start=time.time()\n",
        "model.fit(X_train_vectorized, y_train)"
      ],
      "execution_count": 0,
      "outputs": [
        {
          "output_type": "execute_result",
          "data": {
            "text/plain": [
              "MultinomialNB(alpha=0.1, class_prior=None, fit_prior=True)"
            ]
          },
          "metadata": {
            "tags": []
          },
          "execution_count": 18
        }
      ]
    },
    {
      "cell_type": "code",
      "metadata": {
        "id": "wxeX02c8BbR5",
        "colab_type": "code",
        "outputId": "e23747af-be0d-4ee9-aba6-637210b6f2a4",
        "colab": {
          "base_uri": "https://localhost:8080/",
          "height": 51
        }
      },
      "source": [
        "X_test_vectorized = vect.transform(X_test)\n",
        "X_test_vectorized = add_feature(X_test_vectorized, X_test.str.len())\n",
        "y_pred = model.predict(X_test_vectorized)\n",
        "First_MutinomialNB =  round((accuracy_score(y_test, y_pred) * 100), 2)\n",
        "Training_First_MutinomialNB = round((model.score(X_train_vectorized, y_train)*100),2)\n",
        "print('Mutinomial Naive Bayes training Accuracy is : ',Training_First_MutinomialNB)\n",
        "print('Mutinomial Naive Bayes testing Accuracy is : ',First_MutinomialNB)\n",
        "row=[\"MultinomialNB\",0.0,0.0,0.0,Training_First_MutinomialNB,First_MutinomialNB]\n"
      ],
      "execution_count": 0,
      "outputs": [
        {
          "output_type": "stream",
          "text": [
            "Mutinomial Naive Bayes training Accuracy is :  96.97\n",
            "Mutinomial Naive Bayes testing Accuracy is :  96.63\n"
          ],
          "name": "stdout"
        }
      ]
    },
    {
      "cell_type": "code",
      "metadata": {
        "id": "hpXzsIKpBbOy",
        "colab_type": "code",
        "outputId": "c89f3b07-8500-497e-d04c-a95c4653ed4a",
        "colab": {
          "base_uri": "https://localhost:8080/",
          "height": 102
        }
      },
      "source": [
        "from sklearn.model_selection import cross_val_score\n",
        "scores = cross_val_score(model, X_train_vectorized, y_train, cv=10, scoring = \"accuracy\")\n",
        "print(\"Scores:\", scores*100)\n",
        "print(\"Mean:\", scores.mean()*100)\n",
        "print(\"Standard Deviation:\", scores.std())\n",
        "print(\"Accuracy:\",scores.mean()*100)"
      ],
      "execution_count": 0,
      "outputs": [
        {
          "output_type": "stream",
          "text": [
            "Scores: [96.82799215 96.81015518 96.84285629 96.79816868 96.87843743 96.8546541\n",
            " 96.86059993 96.64357701 96.76537044 96.74753241]\n",
            "Mean: 96.80293436364484\n",
            "Standard Deviation: 0.0006623643928050792\n",
            "Accuracy: 96.80293436364484\n"
          ],
          "name": "stdout"
        }
      ]
    },
    {
      "cell_type": "code",
      "metadata": {
        "id": "cn1hSlodNM2X",
        "colab_type": "code",
        "outputId": "a3b062a4-871f-4999-c18d-bea89557345a",
        "colab": {
          "base_uri": "https://localhost:8080/",
          "height": 51
        }
      },
      "source": [
        "from sklearn.model_selection import cross_val_predict\n",
        "from sklearn.metrics import confusion_matrix\n",
        "predictions = cross_val_predict(model, X_train_vectorized, y_train, cv=10)\n",
        "confusion_matrix(y_train, predictions)"
      ],
      "execution_count": 0,
      "outputs": [
        {
          "output_type": "execute_result",
          "data": {
            "text/plain": [
              "array([[ 51519,   9139],\n",
              "       [  1615, 274098]])"
            ]
          },
          "metadata": {
            "tags": []
          },
          "execution_count": 21
        }
      ]
    },
    {
      "cell_type": "code",
      "metadata": {
        "id": "YTezzUBfPIec",
        "colab_type": "code",
        "outputId": "92474323-72e8-4bd8-c2fc-e3494bc6fa21",
        "colab": {
          "base_uri": "https://localhost:8080/",
          "height": 85
        }
      },
      "source": [
        "print(\"Precision: %f \"%precision_score(y_train, predictions))\n",
        "print(\"Recall: %f \"%recall_score(y_train, predictions))\n",
        "print(\"F1: %f\"% f1_score(y_train, predictions))\n",
        "row[1]=round(precision_score(y_train, predictions)*100,2)\n",
        "row[2]=round(recall_score(y_train, predictions)*100,2)\n",
        "row[3]=round(f1_score(y_train, predictions)*100,2)\n",
        "print(row)"
      ],
      "execution_count": 0,
      "outputs": [
        {
          "output_type": "stream",
          "text": [
            "Precision: 0.967734 \n",
            "Recall: 0.994142 \n",
            "F1: 0.980760\n",
            "['MultinomialNB', 96.77, 99.41, 98.08, 96.97, 96.63]\n"
          ],
          "name": "stdout"
        }
      ]
    },
    {
      "cell_type": "code",
      "metadata": {
        "id": "OseRBEzbSs61",
        "colab_type": "code",
        "colab": {}
      },
      "source": [
        "table.append(row)"
      ],
      "execution_count": 0,
      "outputs": []
    },
    {
      "cell_type": "code",
      "metadata": {
        "id": "Ulm214gCBbJp",
        "colab_type": "code",
        "colab": {}
      },
      "source": [
        "#Precision Recall Curve\n",
        "from sklearn.metrics import precision_recall_curve\n",
        "# getting the probabilities of our predictions y_scores\n",
        "y_scores = model.predict_proba(X_test_vectorized)\n",
        "y_scores = y_scores[:,1]\n",
        "precision, recall, threshold = precision_recall_curve(y_test, y_scores)"
      ],
      "execution_count": 0,
      "outputs": []
    },
    {
      "cell_type": "code",
      "metadata": {
        "id": "S9H9PWzdBbGt",
        "colab_type": "code",
        "outputId": "698f1c03-4c8b-4367-b90a-56728e0cdd60",
        "colab": {
          "base_uri": "https://localhost:8080/",
          "height": 455
        }
      },
      "source": [
        "\n",
        "plt.figure(figsize=(14, 7))\n",
        "plot_precision_and_recall(precision, recall, threshold)\n",
        "plt.show()"
      ],
      "execution_count": 0,
      "outputs": [
        {
          "output_type": "display_data",
          "data": {
            "image/png": "[encoded data removed]",
            "text/plain": [
              "<Figure size 1008x504 with 1 Axes>"
            ]
          },
          "metadata": {
            "tags": []
          }
        }
      ]
    },
    {
      "cell_type": "code",
      "metadata": {
        "id": "8ERmjKdeJwB0",
        "colab_type": "code",
        "outputId": "991e6052-29e5-4810-c48a-7f0d59c92810",
        "colab": {
          "base_uri": "https://localhost:8080/",
          "height": 34
        }
      },
      "source": [
        "end=time.time()-start\n",
        "print(end)"
      ],
      "execution_count": 0,
      "outputs": [
        {
          "output_type": "stream",
          "text": [
            "5.273763179779053\n"
          ],
          "name": "stdout"
        }
      ]
    },
    {
      "cell_type": "markdown",
      "metadata": {
        "id": "zqpFbhyqiBfv",
        "colab_type": "text"
      },
      "source": [
        "### **DecisionTree Classifier**"
      ]
    },
    {
      "cell_type": "code",
      "metadata": {
        "id": "fkEl_86eBbA4",
        "colab_type": "code",
        "outputId": "338009a0-b379-4db2-8ce0-17dc63b56eee",
        "colab": {
          "base_uri": "https://localhost:8080/",
          "height": 119
        }
      },
      "source": [
        "from sklearn.tree import DecisionTreeClassifier\n",
        "model = DecisionTreeClassifier()\n",
        "start=time.time()\n",
        "model.fit(X_train_vectorized, y_train)"
      ],
      "execution_count": 0,
      "outputs": [
        {
          "output_type": "execute_result",
          "data": {
            "text/plain": [
              "DecisionTreeClassifier(class_weight=None, criterion='gini', max_depth=None,\n",
              "            max_features=None, max_leaf_nodes=None,\n",
              "            min_impurity_decrease=0.0, min_impurity_split=None,\n",
              "            min_samples_leaf=1, min_samples_split=2,\n",
              "            min_weight_fraction_leaf=0.0, presort=False, random_state=None,\n",
              "            splitter='best')"
            ]
          },
          "metadata": {
            "tags": []
          },
          "execution_count": 27
        }
      ]
    },
    {
      "cell_type": "code",
      "metadata": {
        "id": "xKTNZj1nepqD",
        "colab_type": "code",
        "colab": {}
      },
      "source": [
        "row=[\"DecisionTreeClassifier\",0.0,0.0,0.0,0.0,0.0]"
      ],
      "execution_count": 0,
      "outputs": []
    },
    {
      "cell_type": "code",
      "metadata": {
        "id": "CRgOkflDBa-N",
        "colab_type": "code",
        "outputId": "026ba3a4-bd93-4ce4-e40b-d1b4fce489df",
        "colab": {
          "base_uri": "https://localhost:8080/",
          "height": 51
        }
      },
      "source": [
        "X_test_vectorized = vect.transform(X_test)\n",
        "X_test_vectorized = add_feature(X_test_vectorized, X_test.str.len())\n",
        "y_pred = model.predict(X_test_vectorized)\n",
        "First_Decisiontree =  round((accuracy_score(y_test, y_pred) * 100), 2)\n",
        "Training_decisiontree = round((model.score(X_train_vectorized, y_train)*100),2)\n",
        "print('Decision  tree training Accuracy is : ',Training_decisiontree)\n",
        "print('Decision tree Accuracy is : ',First_Decisiontree)\n",
        "row[-1]=First_Decisiontree\n",
        "row[-2]=Training_decisiontree"
      ],
      "execution_count": 0,
      "outputs": [
        {
          "output_type": "stream",
          "text": [
            "Decision  tree training Accuracy is :  98.52\n",
            "Decision tree Accuracy is :  95.97\n"
          ],
          "name": "stdout"
        }
      ]
    },
    {
      "cell_type": "code",
      "metadata": {
        "id": "glqQNjOWBa7Q",
        "colab_type": "code",
        "outputId": "b182f522-7418-4bad-851f-c7667b8140d4",
        "colab": {
          "base_uri": "https://localhost:8080/",
          "height": 102
        }
      },
      "source": [
        "from sklearn.model_selection import cross_val_score\n",
        "scores = cross_val_score(model, X_train_vectorized, y_train, cv=10, scoring = \"accuracy\")\n",
        "print(\"Scores:\", scores*100)\n",
        "print(\"Mean:\", scores.mean()*100)\n",
        "print(\"Standard Deviation:\", scores.std())\n",
        "print(\"Accuracy:\",scores.mean()*100)"
      ],
      "execution_count": 0,
      "outputs": [
        {
          "output_type": "stream",
          "text": [
            "Scores: [96.01046436 95.98668173 96.0461383  96.07574992 96.06385825 96.06980408\n",
            " 96.06683117 95.98061658 96.0459032  96.10833631]\n",
            "Mean: 96.04543838914029\n",
            "Standard Deviation: 0.00038914864538049115\n",
            "Accuracy: 96.04543838914029\n"
          ],
          "name": "stdout"
        }
      ]
    },
    {
      "cell_type": "code",
      "metadata": {
        "id": "gVIjy4fnBa4o",
        "colab_type": "code",
        "outputId": "829883f4-0e1e-4326-997b-88be6d3d97d2",
        "colab": {
          "base_uri": "https://localhost:8080/",
          "height": 51
        }
      },
      "source": [
        "from sklearn.model_selection import cross_val_predict\n",
        "from sklearn.metrics import confusion_matrix\n",
        "predictions = cross_val_predict(model, X_train_vectorized, y_train, cv=3)\n",
        "confusion_matrix(y_train, predictions)"
      ],
      "execution_count": 0,
      "outputs": [
        {
          "output_type": "execute_result",
          "data": {
            "text/plain": [
              "array([[ 51085,   9573],\n",
              "       [  4786, 270927]])"
            ]
          },
          "metadata": {
            "tags": []
          },
          "execution_count": 31
        }
      ]
    },
    {
      "cell_type": "code",
      "metadata": {
        "id": "9Ypn6szvBa2O",
        "colab_type": "code",
        "outputId": "68072a94-176b-42bf-c56d-a2d19e31c322",
        "colab": {
          "base_uri": "https://localhost:8080/",
          "height": 68
        }
      },
      "source": [
        "print(\"Precision: %f \"%precision_score(y_train, predictions))\n",
        "print(\"Recall: %f \"%recall_score(y_train, predictions))\n",
        "print(\"F1: %f\"% f1_score(y_train, predictions))\n",
        "row[1]=round(precision_score(y_train, predictions)*100,2)\n",
        "row[2]=round(recall_score(y_train, predictions)*100,2)\n",
        "row[3]=round(f1_score(y_train, predictions)*100,2)"
      ],
      "execution_count": 0,
      "outputs": [
        {
          "output_type": "stream",
          "text": [
            "Precision: 0.965872 \n",
            "Recall: 0.982641 \n",
            "F1: 0.974184\n"
          ],
          "name": "stdout"
        }
      ]
    },
    {
      "cell_type": "code",
      "metadata": {
        "id": "E-h908-sfBnB",
        "colab_type": "code",
        "colab": {}
      },
      "source": [
        "table.append(row)"
      ],
      "execution_count": 0,
      "outputs": []
    },
    {
      "cell_type": "code",
      "metadata": {
        "id": "ZaD3WjKABazE",
        "colab_type": "code",
        "outputId": "aa06760f-432d-4f7e-a9df-1aace0083bfd",
        "colab": {
          "base_uri": "https://localhost:8080/",
          "height": 455
        }
      },
      "source": [
        "#Precision Recall Curve\n",
        "from sklearn.metrics import precision_recall_curve\n",
        "# getting the probabilities of our predictions y_scores\n",
        "y_scores = model.predict_proba(X_test_vectorized)\n",
        "y_scores = y_scores[:,1]\n",
        "precision, recall, threshold = precision_recall_curve(y_test, y_scores)\n",
        "plt.figure(figsize=(14, 7))\n",
        "plot_precision_and_recall(precision, recall, threshold)\n",
        "plt.show()"
      ],
      "execution_count": 0,
      "outputs": [
        {
          "output_type": "display_data",
          "data": {
            "image/png": "[encoded data removed]",
            "text/plain": [
              "<Figure size 1008x504 with 1 Axes>"
            ]
          },
          "metadata": {
            "tags": []
          }
        }
      ]
    },
    {
      "cell_type": "code",
      "metadata": {
        "id": "M6msp1mJiAZK",
        "colab_type": "code",
        "outputId": "047a045f-46ef-48f3-da3c-3bc175bb6e64",
        "colab": {
          "base_uri": "https://localhost:8080/",
          "height": 34
        }
      },
      "source": [
        "end=time.time()-start\n",
        "print(end)"
      ],
      "execution_count": 0,
      "outputs": [
        {
          "output_type": "stream",
          "text": [
            "3676.0650277137756\n"
          ],
          "name": "stdout"
        }
      ]
    },
    {
      "cell_type": "markdown",
      "metadata": {
        "id": "0uCTd8KLh9LS",
        "colab_type": "text"
      },
      "source": [
        "### **LinearSVC**"
      ]
    },
    {
      "cell_type": "code",
      "metadata": {
        "id": "v99V3RnlBawa",
        "colab_type": "code",
        "outputId": "d64b4314-5ade-4659-cfe9-003bf0773d6a",
        "colab": {
          "base_uri": "https://localhost:8080/",
          "height": 102
        }
      },
      "source": [
        "from sklearn.svm import LinearSVC\n",
        "from sklearn.calibration import CalibratedClassifierCV\n",
        "model = CalibratedClassifierCV(base_estimator=LinearSVC(penalty='l2', dual=False), cv=5)\n",
        "start=time.time()\n",
        "model.fit(X_train_vectorized, y_train)"
      ],
      "execution_count": 0,
      "outputs": [
        {
          "output_type": "execute_result",
          "data": {
            "text/plain": [
              "CalibratedClassifierCV(base_estimator=LinearSVC(C=1.0, class_weight=None, dual=False, fit_intercept=True,\n",
              "     intercept_scaling=1, loss='squared_hinge', max_iter=1000,\n",
              "     multi_class='ovr', penalty='l2', random_state=None, tol=0.0001,\n",
              "     verbose=0),\n",
              "            cv=5, method='sigmoid')"
            ]
          },
          "metadata": {
            "tags": []
          },
          "execution_count": 36
        }
      ]
    },
    {
      "cell_type": "code",
      "metadata": {
        "id": "2KBAbwKEBat1",
        "colab_type": "code",
        "outputId": "039e80a8-8476-44c2-9ba5-c5b271409e8c",
        "colab": {
          "base_uri": "https://localhost:8080/",
          "height": 51
        }
      },
      "source": [
        "X_test_vectorized = vect.transform(X_test)\n",
        "X_test_vectorized = add_feature(X_test_vectorized, X_test.str.len())\n",
        "y_pred = model.predict(X_test_vectorized)\n",
        "First_LinearSVC =  round((accuracy_score(y_test, y_pred) * 100), 2)\n",
        "Training_First_LinearSVC = round((model.score(X_train_vectorized, y_train)*100),2)\n",
        "print('LinearSVC training Accuracy is : ',Training_First_LinearSVC)\n",
        "print('LinearSVC Accuracy is : ',First_LinearSVC)\n",
        "row=[\"LinearSVC\",0.0,0.0,0.0,0.0,0.0]\n",
        "row[-1]=First_LinearSVC\n",
        "row[-2]=Training_First_LinearSVC"
      ],
      "execution_count": 0,
      "outputs": [
        {
          "output_type": "stream",
          "text": [
            "LinearSVC training Accuracy is :  97.45\n",
            "LinearSVC Accuracy is :  96.94\n"
          ],
          "name": "stdout"
        }
      ]
    },
    {
      "cell_type": "code",
      "metadata": {
        "id": "2NpOckoBBarg",
        "colab_type": "code",
        "outputId": "62bd79da-59d9-4f14-99ef-f14030626386",
        "colab": {
          "base_uri": "https://localhost:8080/",
          "height": 102
        }
      },
      "source": [
        "from sklearn.model_selection import cross_val_score\n",
        "scores = cross_val_score(model, X_train_vectorized, y_train, cv=10, scoring = \"accuracy\")\n",
        "print(\"Scores:\", scores*100)\n",
        "print(\"Mean:\", scores.mean()*100)\n",
        "print(\"Standard Deviation:\", scores.std())\n",
        "print(\"Accuracy:\",scores.mean()*100)"
      ],
      "execution_count": 0,
      "outputs": [
        {
          "output_type": "stream",
          "text": [
            "Scores: [97.07770973 96.96176943 97.01230751 97.05086661 97.20545828 97.13708119\n",
            " 96.96465202 97.09248744 97.17267214 97.03888691]\n",
            "Mean: 97.07138912439387\n",
            "Standard Deviation: 0.00078365052736296\n",
            "Accuracy: 97.07138912439387\n"
          ],
          "name": "stdout"
        }
      ]
    },
    {
      "cell_type": "code",
      "metadata": {
        "id": "Qy_2HiHfBaok",
        "colab_type": "code",
        "outputId": "ff0fdb05-e7f6-4f3e-97f5-0a31f871c076",
        "colab": {
          "base_uri": "https://localhost:8080/",
          "height": 51
        }
      },
      "source": [
        "from sklearn.model_selection import cross_val_predict\n",
        "from sklearn.metrics import confusion_matrix\n",
        "predictions = cross_val_predict(model, X_train_vectorized, y_train, cv=3)\n",
        "confusion_matrix(y_train, predictions)"
      ],
      "execution_count": 0,
      "outputs": [
        {
          "output_type": "execute_result",
          "data": {
            "text/plain": [
              "array([[ 53319,   7339],\n",
              "       [  2683, 273030]])"
            ]
          },
          "metadata": {
            "tags": []
          },
          "execution_count": 39
        }
      ]
    },
    {
      "cell_type": "code",
      "metadata": {
        "id": "XzrsIM1LBal1",
        "colab_type": "code",
        "outputId": "06dd9c48-4944-461e-a2f2-c6eefed3d3c6",
        "colab": {
          "base_uri": "https://localhost:8080/",
          "height": 68
        }
      },
      "source": [
        "print(\"Precision: %f \"%precision_score(y_train, predictions))\n",
        "print(\"Recall: %f \"%recall_score(y_train, predictions))\n",
        "print(\"F1: %f\"% f1_score(y_train, predictions))\n",
        "row[1]=round(precision_score(y_train, predictions)*100,2)\n",
        "row[2]=round(recall_score(y_train, predictions)*100,2)\n",
        "row[3]=round(f1_score(y_train, predictions)*100,2)\n"
      ],
      "execution_count": 0,
      "outputs": [
        {
          "output_type": "stream",
          "text": [
            "Precision: 0.973824 \n",
            "Recall: 0.990269 \n",
            "F1: 0.981977\n"
          ],
          "name": "stdout"
        }
      ]
    },
    {
      "cell_type": "code",
      "metadata": {
        "id": "DUQj_NXQP5VW",
        "colab_type": "code",
        "colab": {}
      },
      "source": [
        "table.append(row)"
      ],
      "execution_count": 0,
      "outputs": []
    },
    {
      "cell_type": "code",
      "metadata": {
        "id": "dH6KWimaZl7e",
        "colab_type": "code",
        "colab": {}
      },
      "source": [
        "#Precision Recall Curve\n",
        "from sklearn.metrics import precision_recall_curve\n",
        "# getting the probabilities of our predictions y_scores\n",
        "y_scores = model.predict_proba(X_test_vectorized)\n",
        "y_scores = y_scores[:,1]\n",
        "precision, recall, threshold = precision_recall_curve(y_test, y_scores)"
      ],
      "execution_count": 0,
      "outputs": []
    },
    {
      "cell_type": "code",
      "metadata": {
        "id": "17UDYZ0PZl3m",
        "colab_type": "code",
        "outputId": "156d8fa0-a060-474a-8010-293ffaf1a28a",
        "colab": {
          "base_uri": "https://localhost:8080/",
          "height": 455
        }
      },
      "source": [
        "plt.figure(figsize=(14, 7))\n",
        "plot_precision_and_recall(precision, recall, threshold)\n",
        "plt.show()\n"
      ],
      "execution_count": 0,
      "outputs": [
        {
          "output_type": "display_data",
          "data": {
            "image/png": "[encoded data removed]",
            "text/plain": [
              "<Figure size 1008x504 with 1 Axes>"
            ]
          },
          "metadata": {
            "tags": []
          }
        }
      ]
    },
    {
      "cell_type": "code",
      "metadata": {
        "id": "ga46k5zDiUMz",
        "colab_type": "code",
        "outputId": "e987d447-47d6-407a-c9ee-055288381048",
        "colab": {
          "base_uri": "https://localhost:8080/",
          "height": 34
        }
      },
      "source": [
        "end=time.time()-start\n",
        "print(end)"
      ],
      "execution_count": 0,
      "outputs": [
        {
          "output_type": "stream",
          "text": [
            "337.4657692909241\n"
          ],
          "name": "stdout"
        }
      ]
    },
    {
      "cell_type": "markdown",
      "metadata": {
        "id": "qVFd04CMh336",
        "colab_type": "text"
      },
      "source": [
        "### **AdaBoostClassifier**"
      ]
    },
    {
      "cell_type": "code",
      "metadata": {
        "id": "FmadUg-2Zlzf",
        "colab_type": "code",
        "outputId": "65532ddc-b055-46bb-8901-6d0505d54e99",
        "colab": {
          "base_uri": "https://localhost:8080/",
          "height": 51
        }
      },
      "source": [
        "from sklearn.ensemble import AdaBoostClassifier\n",
        "model = AdaBoostClassifier()\n",
        "start=time.time()\n",
        "model.fit(X_train_vectorized, y_train)"
      ],
      "execution_count": 0,
      "outputs": [
        {
          "output_type": "execute_result",
          "data": {
            "text/plain": [
              "AdaBoostClassifier(algorithm='SAMME.R', base_estimator=None,\n",
              "          learning_rate=1.0, n_estimators=50, random_state=None)"
            ]
          },
          "metadata": {
            "tags": []
          },
          "execution_count": 45
        }
      ]
    },
    {
      "cell_type": "code",
      "metadata": {
        "id": "R5Qwl7C3Zlv2",
        "colab_type": "code",
        "outputId": "a375f3ee-3939-44e6-9213-ac869bc17c7d",
        "colab": {
          "base_uri": "https://localhost:8080/",
          "height": 51
        }
      },
      "source": [
        "X_test_vectorized = vect.transform(X_test)\n",
        "X_test_vectorized = add_feature(X_test_vectorized, X_test.str.len())\n",
        "y_pred = model.predict(X_test_vectorized)\n",
        "First_Adaboost =  round((accuracy_score(y_test, y_pred) * 100), 2)\n",
        "Training_First_AdaBoost = round((model.score(X_train_vectorized, y_train)*100),2)\n",
        "print('AdaBoost classifier training Accuracy is : ',Training_First_AdaBoost)\n",
        "print('Adaboost testing Accuracy is : ',First_Adaboost)\n",
        "row=[\"AdaBoostClassifier\",0.0,0.0,0.0,0.0,0.0]\n",
        "row[-2]=First_Adaboost\n",
        "row[-1]=Training_First_AdaBoost"
      ],
      "execution_count": 0,
      "outputs": [
        {
          "output_type": "stream",
          "text": [
            "AdaBoost classifier training Accuracy is :  90.66\n",
            "Adaboost testing Accuracy is :  90.49\n"
          ],
          "name": "stdout"
        }
      ]
    },
    {
      "cell_type": "code",
      "metadata": {
        "id": "CoSbC9D4Zlr_",
        "colab_type": "code",
        "outputId": "c9e8b349-d6e7-45ee-be74-cccce0abea58",
        "colab": {
          "base_uri": "https://localhost:8080/",
          "height": 102
        }
      },
      "source": [
        "from sklearn.model_selection import cross_val_score\n",
        "scores = cross_val_score(model, X_train_vectorized, y_train, cv=10, scoring = \"accuracy\")\n",
        "print(\"Scores:\", scores*100)\n",
        "print(\"Mean:\", scores.mean()*100)\n",
        "print(\"Standard Deviation:\", scores.std())\n",
        "print(\"Accuracy:\",scores.mean()*100)"
      ],
      "execution_count": 0,
      "outputs": [
        {
          "output_type": "stream",
          "text": [
            "Scores: [90.52856888 90.63261787 90.6564005  90.41828938 90.72152689 90.66206856\n",
            " 90.56098939 90.62936647 90.57557379 90.79260316]\n",
            "Mean: 90.61780048931148\n",
            "Standard Deviation: 0.0009894222914535468\n",
            "Accuracy: 90.61780048931148\n"
          ],
          "name": "stdout"
        }
      ]
    },
    {
      "cell_type": "code",
      "metadata": {
        "id": "UlsEg5wHZlo1",
        "colab_type": "code",
        "outputId": "b02a38b5-5a1f-4fe7-bde6-f56f2fa78717",
        "colab": {
          "base_uri": "https://localhost:8080/",
          "height": 51
        }
      },
      "source": [
        "from sklearn.model_selection import cross_val_predict\n",
        "from sklearn.metrics import confusion_matrix\n",
        "predictions = cross_val_predict(model, X_train_vectorized, y_train, cv=3)\n",
        "confusion_matrix(y_train, predictions)\n"
      ],
      "execution_count": 0,
      "outputs": [
        {
          "output_type": "execute_result",
          "data": {
            "text/plain": [
              "array([[ 34109,  26549],\n",
              "       [  4954, 270759]])"
            ]
          },
          "metadata": {
            "tags": []
          },
          "execution_count": 48
        }
      ]
    },
    {
      "cell_type": "code",
      "metadata": {
        "id": "fhBCfT8vZllD",
        "colab_type": "code",
        "outputId": "1bcfc47d-aa2a-47e2-88a9-d643b8c02175",
        "colab": {
          "base_uri": "https://localhost:8080/",
          "height": 68
        }
      },
      "source": [
        "print(\"Precision: %f \"%precision_score(y_train, predictions))\n",
        "print(\"Recall: %f \"%recall_score(y_train, predictions))\n",
        "print(\"F1: %f\"% f1_score(y_train, predictions))\n",
        "row[1]=round(precision_score(y_train, predictions)*100,2)\n",
        "row[2]=round(recall_score(y_train, predictions)*100,2)\n",
        "row[3]=round(f1_score(y_train, predictions)*100,2)"
      ],
      "execution_count": 0,
      "outputs": [
        {
          "output_type": "stream",
          "text": [
            "Precision: 0.910702 \n",
            "Recall: 0.982032 \n",
            "F1: 0.945023\n"
          ],
          "name": "stdout"
        }
      ]
    },
    {
      "cell_type": "code",
      "metadata": {
        "id": "sZycEyIRZ3s4",
        "colab_type": "code",
        "colab": {}
      },
      "source": [
        "table.append(row)"
      ],
      "execution_count": 0,
      "outputs": []
    },
    {
      "cell_type": "code",
      "metadata": {
        "id": "SVslMvhQZlhA",
        "colab_type": "code",
        "outputId": "4197a11f-4ffb-4da0-8f1f-5c7e998d5a03",
        "colab": {
          "base_uri": "https://localhost:8080/",
          "height": 455
        }
      },
      "source": [
        "#Precision Recall Curve\n",
        "from sklearn.metrics import precision_recall_curve\n",
        "# getting the probabilities of our predictions y_scores\n",
        "y_scores = model.predict_proba(X_test_vectorized)\n",
        "y_scores = y_scores[:,1]\n",
        "precision, recall, threshold = precision_recall_curve(y_test, y_scores)\n",
        "plt.figure(figsize=(14, 7))\n",
        "plot_precision_and_recall(precision, recall, threshold)\n",
        "plt.show()"
      ],
      "execution_count": 0,
      "outputs": [
        {
          "output_type": "display_data",
          "data": {
            "image/png": "[encoded data removed]",
            "text/plain": [
              "<Figure size 1008x504 with 1 Axes>"
            ]
          },
          "metadata": {
            "tags": []
          }
        }
      ]
    },
    {
      "cell_type": "code",
      "metadata": {
        "id": "maow6mQqiaz7",
        "colab_type": "code",
        "outputId": "443ecec7-7be7-43c6-ac62-2d6831ac2b16",
        "colab": {
          "base_uri": "https://localhost:8080/",
          "height": 34
        }
      },
      "source": [
        "end=time.time()-start\n",
        "print(end)"
      ],
      "execution_count": 0,
      "outputs": [
        {
          "output_type": "stream",
          "text": [
            "549.1574673652649\n"
          ],
          "name": "stdout"
        }
      ]
    },
    {
      "cell_type": "markdown",
      "metadata": {
        "id": "e-vZQv5GhxoN",
        "colab_type": "text"
      },
      "source": [
        "### **LogisticRegression**"
      ]
    },
    {
      "cell_type": "code",
      "metadata": {
        "id": "p8PflGMXZlcy",
        "colab_type": "code",
        "outputId": "c6920d7f-2591-45f3-c253-8bccde45c9df",
        "colab": {
          "base_uri": "https://localhost:8080/",
          "height": 85
        }
      },
      "source": [
        "#LogisticRegression\n",
        "from sklearn.linear_model import LogisticRegression\n",
        "model = LogisticRegression(solver='liblinear')\n",
        "start=time.time()\n",
        "model.fit(X_train_vectorized, y_train)"
      ],
      "execution_count": 0,
      "outputs": [
        {
          "output_type": "execute_result",
          "data": {
            "text/plain": [
              "LogisticRegression(C=1.0, class_weight=None, dual=False, fit_intercept=True,\n",
              "          intercept_scaling=1, max_iter=100, multi_class='warn',\n",
              "          n_jobs=None, penalty='l2', random_state=None, solver='liblinear',\n",
              "          tol=0.0001, verbose=0, warm_start=False)"
            ]
          },
          "metadata": {
            "tags": []
          },
          "execution_count": 53
        }
      ]
    },
    {
      "cell_type": "code",
      "metadata": {
        "id": "cYafE1hoZlZZ",
        "colab_type": "code",
        "outputId": "8b60b95f-b3e6-42ab-dd60-7ee3f69687ed",
        "colab": {
          "base_uri": "https://localhost:8080/",
          "height": 51
        }
      },
      "source": [
        "X_test_vectorized = vect.transform(X_test)\n",
        "X_test_vectorized = add_feature(X_test_vectorized, X_test.str.len())\n",
        "y_pred = model.predict(X_test_vectorized)\n",
        "First_LogisticRegression =  round((accuracy_score(y_test, y_pred) * 100), 2)\n",
        "Training_LogisticRegression = round((model.score(X_train_vectorized, y_train)*100),2)\n",
        "print('LogisticRegression training Accuracy is : ',Training_LogisticRegression)\n",
        "print('LogisticRegression testing Accuracy is : ',First_LogisticRegression)\n",
        "row=[\"LogisticRegression\",0,0,0,0,0]\n",
        "row[-1]=First_LogisticRegression\n",
        "row[-2]=Training_LogisticRegression"
      ],
      "execution_count": 0,
      "outputs": [
        {
          "output_type": "stream",
          "text": [
            "LogisticRegression training Accuracy is :  96.96\n",
            "LogisticRegression testing Accuracy is :  96.56\n"
          ],
          "name": "stdout"
        }
      ]
    },
    {
      "cell_type": "code",
      "metadata": {
        "id": "2-CwxsRmZlVL",
        "colab_type": "code",
        "outputId": "c8cce30f-b6a8-429d-937c-7ccab7cf4263",
        "colab": {
          "base_uri": "https://localhost:8080/",
          "height": 102
        }
      },
      "source": [
        "from sklearn.model_selection import cross_val_score\n",
        "scores = cross_val_score(model, X_train_vectorized, y_train, cv=10, scoring = \"accuracy\")\n",
        "print(\"Scores:\", scores*100)\n",
        "print(\"Mean:\", scores.mean()*100)\n",
        "print(\"Standard Deviation:\", scores.std())\n",
        "print(\"Accuracy:\",scores.mean()*100)"
      ],
      "execution_count": 0,
      "outputs": [
        {
          "output_type": "stream",
          "text": [
            "Scores: [96.518818   96.47719841 96.34639396 96.53952493 96.66736035 96.68817076\n",
            " 96.46817493 96.52168743 96.66131526 96.60780117]\n",
            "Mean: 96.54964451855413\n",
            "Standard Deviation: 0.00101946009799301\n",
            "Accuracy: 96.54964451855413\n"
          ],
          "name": "stdout"
        }
      ]
    },
    {
      "cell_type": "code",
      "metadata": {
        "id": "FIcmy2giBafL",
        "colab_type": "code",
        "outputId": "9c2fc06b-9a1b-4945-d79b-0153b1944a36",
        "colab": {
          "base_uri": "https://localhost:8080/",
          "height": 51
        }
      },
      "source": [
        "from sklearn.model_selection import cross_val_predict\n",
        "from sklearn.metrics import confusion_matrix\n",
        "predictions = cross_val_predict(model, X_train_vectorized, y_train, cv=3)\n",
        "confusion_matrix(y_train, predictions)"
      ],
      "execution_count": 0,
      "outputs": [
        {
          "output_type": "execute_result",
          "data": {
            "text/plain": [
              "array([[ 50179,  10479],\n",
              "       [  1914, 273799]])"
            ]
          },
          "metadata": {
            "tags": []
          },
          "execution_count": 56
        }
      ]
    },
    {
      "cell_type": "code",
      "metadata": {
        "id": "jN3dcepvZlKV",
        "colab_type": "code",
        "outputId": "d17d360d-9c7a-4731-ff53-85d28dd51b1e",
        "colab": {
          "base_uri": "https://localhost:8080/",
          "height": 68
        }
      },
      "source": [
        "print(\"Precision: %f \"%precision_score(y_train, predictions))\n",
        "print(\"Recall: %f \"%recall_score(y_train, predictions))\n",
        "print(\"F1: %f\"% f1_score(y_train, predictions))\n",
        "row[1]=round(precision_score(y_train, predictions)*100,2)\n",
        "row[2]=round(recall_score(y_train, predictions)*100,2)\n",
        "row[3]=round(f1_score(y_train, predictions)*100,2)\n",
        "table.append(row)"
      ],
      "execution_count": 0,
      "outputs": [
        {
          "output_type": "stream",
          "text": [
            "Precision: 0.963138 \n",
            "Recall: 0.993058 \n",
            "F1: 0.977869\n"
          ],
          "name": "stdout"
        }
      ]
    },
    {
      "cell_type": "code",
      "metadata": {
        "id": "u-TN4zzA5CMK",
        "colab_type": "code",
        "outputId": "367bcdb4-2245-48e8-8598-b6eaf7e87b93",
        "colab": {
          "base_uri": "https://localhost:8080/",
          "height": 455
        }
      },
      "source": [
        "#Precision Recall Curve\n",
        "from sklearn.metrics import precision_recall_curve\n",
        "# getting the probabilities of our predictions y_scores\n",
        "y_scores = model.predict_proba(X_test_vectorized)\n",
        "y_scores = y_scores[:,1]\n",
        "precision, recall, threshold = precision_recall_curve(y_test, y_scores)\n",
        "plt.figure(figsize=(14, 7))\n",
        "plot_precision_and_recall(precision, recall, threshold)\n",
        "plt.show()"
      ],
      "execution_count": 0,
      "outputs": [
        {
          "output_type": "display_data",
          "data": {
            "image/png": "[encoded data removed]",
            "text/plain": [
              "<Figure size 1008x504 with 1 Axes>"
            ]
          },
          "metadata": {
            "tags": []
          }
        }
      ]
    },
    {
      "cell_type": "code",
      "metadata": {
        "id": "YcZKJ4soijX3",
        "colab_type": "code",
        "outputId": "744b64a2-3a8b-44be-ccdc-aef9f29af123",
        "colab": {
          "base_uri": "https://localhost:8080/",
          "height": 34
        }
      },
      "source": [
        "end=time.time()-start\n",
        "print(end)"
      ],
      "execution_count": 0,
      "outputs": [
        {
          "output_type": "stream",
          "text": [
            "77.34235310554504\n"
          ],
          "name": "stdout"
        }
      ]
    },
    {
      "cell_type": "markdown",
      "metadata": {
        "id": "TESuBur1N9NU",
        "colab_type": "text"
      },
      "source": [
        "### Random **Forest**"
      ]
    },
    {
      "cell_type": "code",
      "metadata": {
        "colab_type": "code",
        "id": "XzDGV9RTODPk",
        "outputId": "c2035674-69c9-46a1-a79f-a5ee8f9f6d60",
        "colab": {
          "base_uri": "https://localhost:8080/",
          "height": 190
        }
      },
      "source": [
        "from sklearn.ensemble import RandomForestClassifier\n",
        "model = RandomForestClassifier()\n",
        "start=time.time()\n",
        "model.fit(X_train_vectorized, y_train)"
      ],
      "execution_count": 0,
      "outputs": [
        {
          "output_type": "stream",
          "text": [
            "/usr/local/lib/python3.6/dist-packages/sklearn/ensemble/forest.py:246: FutureWarning: The default value of n_estimators will change from 10 in version 0.20 to 100 in 0.22.\n",
            "  \"10 in version 0.20 to 100 in 0.22.\", FutureWarning)\n"
          ],
          "name": "stderr"
        },
        {
          "output_type": "execute_result",
          "data": {
            "text/plain": [
              "RandomForestClassifier(bootstrap=True, class_weight=None, criterion='gini',\n",
              "            max_depth=None, max_features='auto', max_leaf_nodes=None,\n",
              "            min_impurity_decrease=0.0, min_impurity_split=None,\n",
              "            min_samples_leaf=1, min_samples_split=2,\n",
              "            min_weight_fraction_leaf=0.0, n_estimators=10, n_jobs=None,\n",
              "            oob_score=False, random_state=None, verbose=0,\n",
              "            warm_start=False)"
            ]
          },
          "metadata": {
            "tags": []
          },
          "execution_count": 60
        }
      ]
    },
    {
      "cell_type": "code",
      "metadata": {
        "colab_type": "code",
        "id": "dn-UZ6dFODPq",
        "outputId": "15c86d6e-31ba-44db-d2d9-0ebd68899909",
        "colab": {
          "base_uri": "https://localhost:8080/",
          "height": 51
        }
      },
      "source": [
        "X_test_vectorized = vect.transform(X_test)\n",
        "X_test_vectorized = add_feature(X_test_vectorized, X_test.str.len())\n",
        "y_pred = model.predict(X_test_vectorized)\n",
        "First_Randomforest =  round((accuracy_score(y_test, y_pred) * 100), 2)\n",
        "Training_First_Randomforest = round((model.score(X_train_vectorized, y_train)*100),2)\n",
        "print('Random Forest training Accuracy is : ',Training_First_Randomforest)\n",
        "print('Random Forest testing Accuracy is : ',First_Randomforest)\n",
        "row=[\"RandomForest\",0.0,0.0,0.0,Training_First_Randomforest,First_Randomforest]\n"
      ],
      "execution_count": 0,
      "outputs": [
        {
          "output_type": "stream",
          "text": [
            "Random Forest training Accuracy is :  98.43\n",
            "Random Forest testing Accuracy is :  96.63\n"
          ],
          "name": "stdout"
        }
      ]
    },
    {
      "cell_type": "code",
      "metadata": {
        "colab_type": "code",
        "id": "vQVxlxoOODPu",
        "outputId": "62ddf328-7f5c-4fee-ac71-14a8720d8e57",
        "colab": {
          "base_uri": "https://localhost:8080/",
          "height": 102
        }
      },
      "source": [
        "from sklearn.model_selection import cross_val_score\n",
        "scores = cross_val_score(model, X_train_vectorized, y_train, cv=10, scoring = \"accuracy\")\n",
        "print(\"Scores:\", scores*100)\n",
        "print(\"Mean:\", scores.mean()*100)\n",
        "print(\"Standard Deviation:\", scores.std())\n",
        "print(\"Accuracy:\",scores.mean()*100)"
      ],
      "execution_count": 0,
      "outputs": [
        {
          "output_type": "stream",
          "text": [
            "Scores: [96.6020572  96.5812474  96.6971877  96.64952285 96.93194994 96.69708951\n",
            " 96.6762791  96.66438743 96.69401831 96.78320847]\n",
            "Mean: 96.69769479066052\n",
            "Standard Deviation: 0.0009423231647322861\n",
            "Accuracy: 96.69769479066052\n"
          ],
          "name": "stdout"
        }
      ]
    },
    {
      "cell_type": "code",
      "metadata": {
        "colab_type": "code",
        "id": "H2JuciMxODPy",
        "outputId": "1a5f6c26-ae3f-41a2-d974-965f0c396df5",
        "colab": {
          "base_uri": "https://localhost:8080/",
          "height": 51
        }
      },
      "source": [
        "from sklearn.model_selection import cross_val_predict\n",
        "from sklearn.metrics import confusion_matrix\n",
        "predictions = cross_val_predict(model, X_train_vectorized, y_train, cv=10)\n",
        "confusion_matrix(y_train, predictions)"
      ],
      "execution_count": 0,
      "outputs": [
        {
          "output_type": "execute_result",
          "data": {
            "text/plain": [
              "array([[ 52783,   7875],\n",
              "       [  3240, 272473]])"
            ]
          },
          "metadata": {
            "tags": []
          },
          "execution_count": 63
        }
      ]
    },
    {
      "cell_type": "code",
      "metadata": {
        "colab_type": "code",
        "id": "-fdm5Y7tODP1",
        "outputId": "a0721a29-b5b2-4a36-f6dd-d3622aff614c",
        "colab": {
          "base_uri": "https://localhost:8080/",
          "height": 85
        }
      },
      "source": [
        "print(\"Precision: %f \"%precision_score(y_train, predictions))\n",
        "print(\"Recall: %f \"%recall_score(y_train, predictions))\n",
        "print(\"F1: %f\"% f1_score(y_train, predictions))\n",
        "row[1]=round(precision_score(y_train, predictions)*100,2)\n",
        "row[2]=round(recall_score(y_train, predictions)*100,2)\n",
        "row[3]=round(f1_score(y_train, predictions)*100,2)\n",
        "print(row)"
      ],
      "execution_count": 0,
      "outputs": [
        {
          "output_type": "stream",
          "text": [
            "Precision: 0.971910 \n",
            "Recall: 0.988249 \n",
            "F1: 0.980011\n",
            "['RandomForest', 97.19, 98.82, 98.0, 98.43, 96.63]\n"
          ],
          "name": "stdout"
        }
      ]
    },
    {
      "cell_type": "code",
      "metadata": {
        "colab_type": "code",
        "id": "Ro4-RlAJODP5",
        "colab": {}
      },
      "source": [
        "table.append(row)"
      ],
      "execution_count": 0,
      "outputs": []
    },
    {
      "cell_type": "code",
      "metadata": {
        "colab_type": "code",
        "id": "nSr8oAffODP7",
        "colab": {}
      },
      "source": [
        "#Precision Recall Curve\n",
        "from sklearn.metrics import precision_recall_curve\n",
        "# getting the probabilities of our predictions y_scores\n",
        "y_scores = model.predict_proba(X_test_vectorized)\n",
        "y_scores = y_scores[:,1]\n",
        "precision, recall, threshold = precision_recall_curve(y_test, y_scores)"
      ],
      "execution_count": 0,
      "outputs": []
    },
    {
      "cell_type": "code",
      "metadata": {
        "colab_type": "code",
        "id": "qriHrtiOODP8",
        "outputId": "da015a33-3d1f-428e-866a-1daf7d720736",
        "colab": {
          "base_uri": "https://localhost:8080/",
          "height": 455
        }
      },
      "source": [
        "plt.figure(figsize=(14, 7))\n",
        "plot_precision_and_recall(precision, recall, threshold)\n",
        "plt.show()"
      ],
      "execution_count": 0,
      "outputs": [
        {
          "output_type": "display_data",
          "data": {
            "image/png": "[encoded data removed]",
            "text/plain": [
              "<Figure size 1008x504 with 1 Axes>"
            ]
          },
          "metadata": {
            "tags": []
          }
        }
      ]
    },
    {
      "cell_type": "code",
      "metadata": {
        "colab_type": "code",
        "id": "grIUXSSkODP_",
        "outputId": "963898cb-3490-4bf6-fd87-69141dbde520",
        "colab": {
          "base_uri": "https://localhost:8080/",
          "height": 34
        }
      },
      "source": [
        "end=time.time()-start\n",
        "print(end)"
      ],
      "execution_count": 0,
      "outputs": [
        {
          "output_type": "stream",
          "text": [
            "1841.2166554927826\n"
          ],
          "name": "stdout"
        }
      ]
    },
    {
      "cell_type": "code",
      "metadata": {
        "id": "MGROATPyUVZQ",
        "colab_type": "code",
        "outputId": "b7d096d1-5e35-454a-cdd2-d34e16e1dc66",
        "colab": {
          "base_uri": "https://localhost:8080/",
          "height": 136
        }
      },
      "source": [
        "# now table is Complete\n",
        "table.pop(0)\n",
        "df1=pd.DataFrame(table,columns=[\"Classifier\",\"Precision\",\"Recall\",\"F1 Score\",\"Training %\",\"Testing %\"])\n",
        "print(df1)"
      ],
      "execution_count": 0,
      "outputs": [
        {
          "output_type": "stream",
          "text": [
            "               Classifier  Precision  Recall  F1 Score  Training %  Testing %\n",
            "0           MultinomialNB      96.77   99.41     98.08       96.97      96.63\n",
            "1  DecisionTreeClassifier      96.59   98.26     97.42       98.52      95.97\n",
            "2               LinearSVC      97.38   99.03     98.20       97.45      96.94\n",
            "3      AdaBoostClassifier      91.07   98.20     94.50       90.49      90.66\n",
            "4      LogisticRegression      96.31   99.31     97.79       96.96      96.56\n",
            "5            RandomForest      97.19   98.82     98.00       98.43      96.63\n"
          ],
          "name": "stdout"
        }
      ]
    },
    {
      "cell_type": "markdown",
      "metadata": {
        "colab_type": "text",
        "id": "XZpiGfX_Cqqw"
      },
      "source": [
        "# MODEL 2\n",
        "\n"
      ]
    },
    {
      "cell_type": "code",
      "metadata": {
        "colab_type": "code",
        "id": "n8GSdCSiCqqx",
        "colab": {}
      },
      "source": [
        "vect = TfidfVectorizer(min_df=5, ngram_range=(1, 3)).fit(X_train)\n",
        "X_train_vectorized = vect.transform(X_train)\n",
        "X_train_vectorized = add_feature(X_train_vectorized, X_train.str.len())\n",
        "X_train_vectorized = add_feature(X_train_vectorized, X_train.str.replace(r'\\D+', '').str.len())"
      ],
      "execution_count": 0,
      "outputs": []
    },
    {
      "cell_type": "code",
      "metadata": {
        "colab_type": "code",
        "id": "WmC2J3AkCqqy",
        "colab": {}
      },
      "source": [
        "table=[[]]"
      ],
      "execution_count": 0,
      "outputs": []
    },
    {
      "cell_type": "markdown",
      "metadata": {
        "colab_type": "text",
        "id": "IJC4-eHCCqq2"
      },
      "source": [
        "## Multinomial Naive Bayes"
      ]
    },
    {
      "cell_type": "code",
      "metadata": {
        "colab_type": "code",
        "outputId": "9da7eddc-7e95-4806-9cd9-9081f07b87a8",
        "id": "gfO1LIB3Cqq3",
        "colab": {
          "base_uri": "https://localhost:8080/",
          "height": 34
        }
      },
      "source": [
        "model = MultinomialNB(alpha=0.1)\n",
        "start=time.time()\n",
        "model.fit(X_train_vectorized, y_train)"
      ],
      "execution_count": 0,
      "outputs": [
        {
          "output_type": "execute_result",
          "data": {
            "text/plain": [
              "MultinomialNB(alpha=0.1, class_prior=None, fit_prior=True)"
            ]
          },
          "metadata": {
            "tags": []
          },
          "execution_count": 9
        }
      ]
    },
    {
      "cell_type": "code",
      "metadata": {
        "colab_type": "code",
        "outputId": "acf4fac1-f8d0-4085-e97f-5cf3cfc15482",
        "id": "olNy2nrGCqq7",
        "colab": {
          "base_uri": "https://localhost:8080/",
          "height": 52
        }
      },
      "source": [
        "X_test_vectorized = vect.transform(X_test)\n",
        "X_test_vectorized = add_feature(X_test_vectorized, X_test.str.len())\n",
        "X_test_vectorized = add_feature(X_test_vectorized, X_test.str.replace(r'\\D+', '').str.len())\n",
        "y_pred = model.predict(X_test_vectorized)\n",
        "Second_MutinomialNB =  round((accuracy_score(y_test, y_pred) * 100), 2)\n",
        "Training_Second_MutinomialNB = round((model.score(X_train_vectorized, y_train)*100),2)\n",
        "print('Mutinomial Naive Bayes training Accuracy is : ',Training_Second_MutinomialNB)\n",
        "print('Mutinomial Naive Bayes Accuracy is : ',Second_MutinomialNB)\n",
        "row=[\"MultinomialNB2\",0,0,0,0,0]\n",
        "row[-1]=Second_MutinomialNB\n",
        "row[-2]=Training_Second_MutinomialNB"
      ],
      "execution_count": 0,
      "outputs": [
        {
          "output_type": "stream",
          "text": [
            "Mutinomial Naive Bayes training Accuracy is :  96.58\n",
            "Mutinomial Naive Bayes Accuracy is :  96.24\n"
          ],
          "name": "stdout"
        }
      ]
    },
    {
      "cell_type": "code",
      "metadata": {
        "colab_type": "code",
        "outputId": "581c6b3f-62a7-45dc-a5a5-39a8b89654a8",
        "id": "X8TtuyCkCqrA",
        "colab": {
          "base_uri": "https://localhost:8080/",
          "height": 105
        }
      },
      "source": [
        "from sklearn.model_selection import cross_val_score\n",
        "scores = cross_val_score(model, X_train_vectorized, y_train, cv=10, scoring = \"accuracy\")\n",
        "print(\"Scores:\", scores*100)\n",
        "print(\"Mean:\", scores.mean()*100)\n",
        "print(\"Standard Deviation:\", scores.std())\n",
        "print(\"Accuracy:\",scores.mean()*100)"
      ],
      "execution_count": 0,
      "outputs": [
        {
          "output_type": "stream",
          "text": [
            "Scores: [96.45638861 96.30477436 96.48611689 96.30169159 96.41466243 96.46520201\n",
            " 96.26601659 96.17682909 96.41752884 96.36401475]\n",
            "Mean: 96.36532251468239\n",
            "Standard Deviation: 0.000954611325070757\n",
            "Accuracy: 96.36532251468239\n"
          ],
          "name": "stdout"
        }
      ]
    },
    {
      "cell_type": "code",
      "metadata": {
        "colab_type": "code",
        "outputId": "2fd6dd1f-7eed-4d5a-f0f1-83c9eb658daa",
        "id": "U4jyzzwJCqrQ",
        "colab": {
          "base_uri": "https://localhost:8080/",
          "height": 51
        }
      },
      "source": [
        "from sklearn.model_selection import cross_val_predict\n",
        "from sklearn.metrics import confusion_matrix\n",
        "predictions = cross_val_predict(model, X_train_vectorized, y_train, cv=3)\n",
        "confusion_matrix(y_train, predictions)"
      ],
      "execution_count": 0,
      "outputs": [
        {
          "output_type": "execute_result",
          "data": {
            "text/plain": [
              "array([[ 51081,   9577],\n",
              "       [  2953, 272760]])"
            ]
          },
          "metadata": {
            "tags": []
          },
          "execution_count": 12
        }
      ]
    },
    {
      "cell_type": "code",
      "metadata": {
        "colab_type": "code",
        "outputId": "bb51463c-1125-4a56-af03-20b952af33cc",
        "id": "KpjrJhLUCqrW",
        "colab": {
          "base_uri": "https://localhost:8080/",
          "height": 85
        }
      },
      "source": [
        "print(\"Precision: %f \"%precision_score(y_train, predictions))\n",
        "print(\"Recall: %f \"%recall_score(y_train, predictions))\n",
        "print(\"F1: %f\"% f1_score(y_train, predictions))\n",
        "row[1]=round(precision_score(y_train, predictions)*100,2)\n",
        "row[2]=round(recall_score(y_train, predictions)*100,2)\n",
        "row[3]=round(f1_score(y_train, predictions)*100,2)\n",
        "print(row)\n",
        "table.append(row)"
      ],
      "execution_count": 0,
      "outputs": [
        {
          "output_type": "stream",
          "text": [
            "Precision: 0.966080 \n",
            "Recall: 0.989290 \n",
            "F1: 0.977547\n",
            "['MultinomialNB2', 96.61, 98.93, 97.75, 96.58, 96.24]\n"
          ],
          "name": "stdout"
        }
      ]
    },
    {
      "cell_type": "code",
      "metadata": {
        "colab_type": "code",
        "outputId": "6cd2b6e3-896f-40aa-f41f-0f158c79fc49",
        "id": "s0qFK4guCqrY",
        "colab": {
          "base_uri": "https://localhost:8080/",
          "height": 455
        }
      },
      "source": [
        "#Precision Recall Curve\n",
        "from sklearn.metrics import precision_recall_curve\n",
        "# getting the probabilities of our predictions y_scores\n",
        "y_scores = model.predict_proba(X_test_vectorized)\n",
        "y_scores = y_scores[:,1]\n",
        "precision, recall, threshold = precision_recall_curve(y_test, y_scores)\n",
        "plt.figure(figsize=(14, 7))\n",
        "plot_precision_and_recall(precision, recall, threshold)\n",
        "plt.show()\n"
      ],
      "execution_count": 0,
      "outputs": [
        {
          "output_type": "display_data",
          "data": {
            "image/png": "[encoded data removed]",
            "text/plain": [
              "<Figure size 1008x504 with 1 Axes>"
            ]
          },
          "metadata": {
            "tags": []
          }
        }
      ]
    },
    {
      "cell_type": "code",
      "metadata": {
        "colab_type": "code",
        "outputId": "d174a214-3ee0-4735-f334-b95d6f8e6e6d",
        "id": "ND4P4BsNCqrb",
        "colab": {
          "base_uri": "https://localhost:8080/",
          "height": 34
        }
      },
      "source": [
        "end=time.time()-start\n",
        "print(end)"
      ],
      "execution_count": 0,
      "outputs": [
        {
          "output_type": "stream",
          "text": [
            "6.402043581008911\n"
          ],
          "name": "stdout"
        }
      ]
    },
    {
      "cell_type": "markdown",
      "metadata": {
        "colab_type": "text",
        "id": "EaR1uRX5Cqre"
      },
      "source": [
        "## **DecisionTreeClassifier**"
      ]
    },
    {
      "cell_type": "code",
      "metadata": {
        "colab_type": "code",
        "outputId": "d8016331-e1ed-4f1b-b0b4-92100bfeb708",
        "id": "naCiMyINCqrf",
        "colab": {
          "base_uri": "https://localhost:8080/",
          "height": 123
        }
      },
      "source": [
        "from sklearn.tree import DecisionTreeClassifier\n",
        "model = DecisionTreeClassifier()\n",
        "start=time.time()\n",
        "model.fit(X_train_vectorized, y_train)"
      ],
      "execution_count": 0,
      "outputs": [
        {
          "output_type": "execute_result",
          "data": {
            "text/plain": [
              "DecisionTreeClassifier(class_weight=None, criterion='gini', max_depth=None,\n",
              "            max_features=None, max_leaf_nodes=None,\n",
              "            min_impurity_decrease=0.0, min_impurity_split=None,\n",
              "            min_samples_leaf=1, min_samples_split=2,\n",
              "            min_weight_fraction_leaf=0.0, presort=False, random_state=None,\n",
              "            splitter='best')"
            ]
          },
          "metadata": {
            "tags": []
          },
          "execution_count": 16
        }
      ]
    },
    {
      "cell_type": "code",
      "metadata": {
        "colab_type": "code",
        "outputId": "e387e6f2-4691-4c72-b31e-e872cfa91ea5",
        "id": "ri4VZ0okCqrj",
        "colab": {
          "base_uri": "https://localhost:8080/",
          "height": 51
        }
      },
      "source": [
        "X_test_vectorized = vect.transform(X_test)\n",
        "X_test_vectorized = add_feature(X_test_vectorized, X_test.str.len())\n",
        "X_test_vectorized = add_feature(X_test_vectorized, X_test.str.replace(r'\\D+', '').str.len())\n",
        "y_pred = model.predict(X_test_vectorized)\n",
        "Second_decision_tree = round((accuracy_score(y_test, y_pred) * 100),2)\n",
        "Training_Second_Decisiontree = round((model.score(X_train_vectorized, y_train)*100),2)\n",
        "print('Decision tree training Accuracy is : ',Training_Second_Decisiontree)\n",
        "print('Decision Tree Accuracy is : ',Second_decision_tree)\n",
        "row=[\"Decision Tree 2\",0,0,0,0,0]\n",
        "row[-1]=Second_decision_tree\n",
        "row[-2]=Training_Second_Decisiontree"
      ],
      "execution_count": 0,
      "outputs": [
        {
          "output_type": "stream",
          "text": [
            "Decision tree training Accuracy is :  99.17\n",
            "Decision Tree Accuracy is :  96.59\n"
          ],
          "name": "stdout"
        }
      ]
    },
    {
      "cell_type": "code",
      "metadata": {
        "colab_type": "code",
        "id": "mRGo9DMsCqrn",
        "outputId": "de83309d-57ac-40d1-e84d-a7f4b6dd2de8",
        "colab": {
          "base_uri": "https://localhost:8080/",
          "height": 102
        }
      },
      "source": [
        "from sklearn.model_selection import cross_val_score\n",
        "scores = cross_val_score(model, X_train_vectorized, y_train, cv=10, scoring = \"accuracy\")\n",
        "print(\"Scores:\", scores*100)\n",
        "print(\"Mean:\", scores.mean()*100)\n",
        "print(\"Standard Deviation:\", scores.std())\n",
        "print(\"Accuracy:\",scores.mean()*100)"
      ],
      "execution_count": 0,
      "outputs": [
        {
          "output_type": "stream",
          "text": [
            "Scores: [96.39098638 96.46530709 96.47719841 96.45628326 96.58114576 96.55141659\n",
            " 96.56033535 96.44141868 96.53644904 96.69104531]\n",
            "Mean: 96.51515858727731\n",
            "Standard Deviation: 0.0008206587202787569\n",
            "Accuracy: 96.51515858727731\n"
          ],
          "name": "stdout"
        }
      ]
    },
    {
      "cell_type": "code",
      "metadata": {
        "colab_type": "code",
        "id": "jI-VjpUACqrp",
        "outputId": "d8a9cd19-6cae-44de-9d89-657f9acd021b",
        "colab": {
          "base_uri": "https://localhost:8080/",
          "height": 51
        }
      },
      "source": [
        "from sklearn.model_selection import cross_val_predict\n",
        "from sklearn.metrics import confusion_matrix\n",
        "predictions = cross_val_predict(model, X_train_vectorized, y_train, cv=3)\n",
        "confusion_matrix(y_train, predictions)"
      ],
      "execution_count": 0,
      "outputs": [
        {
          "output_type": "execute_result",
          "data": {
            "text/plain": [
              "array([[ 52832,   7826],\n",
              "       [  5178, 270535]])"
            ]
          },
          "metadata": {
            "tags": []
          },
          "execution_count": 19
        }
      ]
    },
    {
      "cell_type": "code",
      "metadata": {
        "colab_type": "code",
        "id": "VTinD6pcCqrr",
        "outputId": "9c1c41a0-f80e-4cd6-85d6-16764e5ab415",
        "colab": {
          "base_uri": "https://localhost:8080/",
          "height": 68
        }
      },
      "source": [
        "print(\"Precision: %f \"%precision_score(y_train, predictions))\n",
        "print(\"Recall: %f \"%recall_score(y_train, predictions))\n",
        "print(\"F1: %f\"% f1_score(y_train, predictions))\n",
        "row[1]=round(precision_score(y_train, predictions)*100,2)\n",
        "row[2]=round(recall_score(y_train, predictions)*100,2)\n",
        "row[3]=round(f1_score(y_train, predictions)*100,2)"
      ],
      "execution_count": 0,
      "outputs": [
        {
          "output_type": "stream",
          "text": [
            "Precision: 0.971885 \n",
            "Recall: 0.981220 \n",
            "F1: 0.976530\n"
          ],
          "name": "stdout"
        }
      ]
    },
    {
      "cell_type": "code",
      "metadata": {
        "colab_type": "code",
        "id": "EtPRQIEuCqrt",
        "colab": {}
      },
      "source": [
        "table.append(row)"
      ],
      "execution_count": 0,
      "outputs": []
    },
    {
      "cell_type": "code",
      "metadata": {
        "colab_type": "code",
        "id": "ZEX0TzWACqrw",
        "outputId": "1031e716-71e3-4257-c5bc-b836ab4fdbd0",
        "colab": {
          "base_uri": "https://localhost:8080/",
          "height": 455
        }
      },
      "source": [
        "#Precision Recall Curve\n",
        "from sklearn.metrics import precision_recall_curve\n",
        "# getting the probabilities of our predictions y_scores\n",
        "y_scores = model.predict_proba(X_test_vectorized)\n",
        "y_scores = y_scores[:,1]\n",
        "precision, recall, threshold = precision_recall_curve(y_test, y_scores)\n",
        "plt.figure(figsize=(14, 7))\n",
        "plot_precision_and_recall(precision, recall, threshold)\n",
        "plt.show()"
      ],
      "execution_count": 0,
      "outputs": [
        {
          "output_type": "display_data",
          "data": {
            "image/png": "[encoded data removed]",
            "text/plain": [
              "<Figure size 1008x504 with 1 Axes>"
            ]
          },
          "metadata": {
            "tags": []
          }
        }
      ]
    },
    {
      "cell_type": "code",
      "metadata": {
        "colab_type": "code",
        "id": "TmfDJJciCqry",
        "outputId": "a7d78d89-dddc-4907-c752-0eb0c48f5c45",
        "colab": {
          "base_uri": "https://localhost:8080/",
          "height": 34
        }
      },
      "source": [
        "end=time.time()-start\n",
        "print(end)"
      ],
      "execution_count": 0,
      "outputs": [
        {
          "output_type": "stream",
          "text": [
            "3556.395776987076\n"
          ],
          "name": "stdout"
        }
      ]
    },
    {
      "cell_type": "markdown",
      "metadata": {
        "colab_type": "text",
        "id": "R0pncHoxCqr0"
      },
      "source": [
        "## **LinearSVC**"
      ]
    },
    {
      "cell_type": "code",
      "metadata": {
        "colab_type": "code",
        "id": "fq6E_GXTCqr0",
        "outputId": "8c662899-80de-4736-b0be-da43b10cca6d",
        "colab": {
          "base_uri": "https://localhost:8080/",
          "height": 102
        }
      },
      "source": [
        "from sklearn.svm import LinearSVC\n",
        "from sklearn.calibration import CalibratedClassifierCV\n",
        "model = CalibratedClassifierCV(base_estimator=LinearSVC(penalty='l2', dual=False), cv=5)\n",
        "start=time.time()\n",
        "model.fit(X_train_vectorized, y_train)"
      ],
      "execution_count": 0,
      "outputs": [
        {
          "output_type": "execute_result",
          "data": {
            "text/plain": [
              "CalibratedClassifierCV(base_estimator=LinearSVC(C=1.0, class_weight=None, dual=False, fit_intercept=True,\n",
              "     intercept_scaling=1, loss='squared_hinge', max_iter=1000,\n",
              "     multi_class='ovr', penalty='l2', random_state=None, tol=0.0001,\n",
              "     verbose=0),\n",
              "            cv=5, method='sigmoid')"
            ]
          },
          "metadata": {
            "tags": []
          },
          "execution_count": 24
        }
      ]
    },
    {
      "cell_type": "code",
      "metadata": {
        "colab_type": "code",
        "id": "hicVcB9QCqr5",
        "outputId": "fdf20ffe-819f-44d8-aec1-bd1d774dfcd5",
        "colab": {
          "base_uri": "https://localhost:8080/",
          "height": 51
        }
      },
      "source": [
        "X_test_vectorized = vect.transform(X_test)\n",
        "X_test_vectorized = add_feature(X_test_vectorized, X_test.str.len())\n",
        "X_test_vectorized = add_feature(X_test_vectorized, X_test.str.replace(r'\\D+', '').str.len())\n",
        "y_pred = model.predict(X_test_vectorized)\n",
        "Second_LinearSVC = round((accuracy_score(y_test, y_pred) * 100),2)\n",
        "Training_Second_LinearSVC = round((model.score(X_train_vectorized, y_train)*100),2)\n",
        "print('LinearSVC training Accuracy is : ',Training_Second_LinearSVC)\n",
        "print('LinearSVC testing Accuracy is : ',Second_LinearSVC)\n",
        "row=[\"LinearSVC2\",0,0,0,0,0]\n",
        "row[-1]=Second_LinearSVC\n",
        "row[-2]=Training_Second_LinearSVC"
      ],
      "execution_count": 0,
      "outputs": [
        {
          "output_type": "stream",
          "text": [
            "LinearSVC training Accuracy is :  97.78\n",
            "LinearSVC testing Accuracy is :  97.17\n"
          ],
          "name": "stdout"
        }
      ]
    },
    {
      "cell_type": "code",
      "metadata": {
        "colab_type": "code",
        "id": "UvOflpBLCqr8",
        "outputId": "b7cd6438-e2b5-400c-ed7b-3f9661dabfca",
        "colab": {
          "base_uri": "https://localhost:8080/",
          "height": 102
        }
      },
      "source": [
        "from sklearn.model_selection import cross_val_score\n",
        "scores = cross_val_score(model, X_train_vectorized, y_train, cv=10, scoring = \"accuracy\")\n",
        "print(\"Scores:\", scores*100)\n",
        "print(\"Mean:\", scores.mean()*100)\n",
        "print(\"Standard Deviation:\", scores.std())\n",
        "print(\"Accuracy:\",scores.mean()*100)"
      ],
      "execution_count": 0,
      "outputs": [
        {
          "output_type": "stream",
          "text": [
            "Scores: [97.30067186 97.22635115 97.34229146 97.36004995 97.47896661 97.39869786\n",
            " 97.23518744 97.3689687  97.36591747 97.36889047]\n",
            "Mean: 97.34459929688582\n",
            "Standard Deviation: 0.000712368377837264\n",
            "Accuracy: 97.34459929688582\n"
          ],
          "name": "stdout"
        }
      ]
    },
    {
      "cell_type": "code",
      "metadata": {
        "colab_type": "code",
        "id": "341PolUpCqr-",
        "outputId": "71c0400d-8fa0-4565-eb6c-97599cb44af8",
        "colab": {
          "base_uri": "https://localhost:8080/",
          "height": 51
        }
      },
      "source": [
        "from sklearn.model_selection import cross_val_predict\n",
        "from sklearn.metrics import confusion_matrix\n",
        "predictions = cross_val_predict(model, X_train_vectorized, y_train, cv=3)\n",
        "confusion_matrix(y_train, predictions)"
      ],
      "execution_count": 0,
      "outputs": [
        {
          "output_type": "execute_result",
          "data": {
            "text/plain": [
              "array([[ 53820,   6838],\n",
              "       [  2402, 273311]])"
            ]
          },
          "metadata": {
            "tags": []
          },
          "execution_count": 27
        }
      ]
    },
    {
      "cell_type": "code",
      "metadata": {
        "colab_type": "code",
        "id": "Sk3ZY6CSCqsA",
        "outputId": "15f5e2fc-650b-4a07-a242-b5f74bb01fc9",
        "colab": {
          "base_uri": "https://localhost:8080/",
          "height": 68
        }
      },
      "source": [
        "print(\"Precision: %f \"%precision_score(y_train, predictions))\n",
        "print(\"Recall: %f \"%recall_score(y_train, predictions))\n",
        "print(\"F1: %f\"% f1_score(y_train, predictions))\n",
        "row[1]=round(precision_score(y_train, predictions)*100,2)\n",
        "row[2]=round(recall_score(y_train, predictions)*100,2)\n",
        "row[3]=round(f1_score(y_train, predictions)*100,2)"
      ],
      "execution_count": 0,
      "outputs": [
        {
          "output_type": "stream",
          "text": [
            "Precision: 0.975592 \n",
            "Recall: 0.991288 \n",
            "F1: 0.983377\n"
          ],
          "name": "stdout"
        }
      ]
    },
    {
      "cell_type": "code",
      "metadata": {
        "colab_type": "code",
        "id": "jK-fsEvaCqsJ",
        "colab": {}
      },
      "source": [
        "table.append(row)"
      ],
      "execution_count": 0,
      "outputs": []
    },
    {
      "cell_type": "code",
      "metadata": {
        "colab_type": "code",
        "id": "2N4NH8yZCqsK",
        "outputId": "dd23efc3-a021-48b7-df4f-d19eb6265a14",
        "colab": {
          "base_uri": "https://localhost:8080/",
          "height": 455
        }
      },
      "source": [
        "#Precision Recall Curve\n",
        "from sklearn.metrics import precision_recall_curve\n",
        "# getting the probabilities of our predictions y_scores\n",
        "y_scores = model.predict_proba(X_test_vectorized)\n",
        "y_scores = y_scores[:,1]\n",
        "precision, recall, threshold = precision_recall_curve(y_test, y_scores)\n",
        "plt.figure(figsize=(14, 7))\n",
        "plot_precision_and_recall(precision, recall, threshold)\n",
        "plt.show()"
      ],
      "execution_count": 0,
      "outputs": [
        {
          "output_type": "display_data",
          "data": {
            "image/png": "[encoded data removed]",
            "text/plain": [
              "<Figure size 1008x504 with 1 Axes>"
            ]
          },
          "metadata": {
            "tags": []
          }
        }
      ]
    },
    {
      "cell_type": "code",
      "metadata": {
        "colab_type": "code",
        "id": "mRQOWJhRCqsP",
        "outputId": "cd2327f6-4e5d-44d7-cbb6-2103fc2cfbde",
        "colab": {
          "base_uri": "https://localhost:8080/",
          "height": 34
        }
      },
      "source": [
        "end=time.time()-start\n",
        "print(end)"
      ],
      "execution_count": 0,
      "outputs": [
        {
          "output_type": "stream",
          "text": [
            "819.0222420692444\n"
          ],
          "name": "stdout"
        }
      ]
    },
    {
      "cell_type": "markdown",
      "metadata": {
        "colab_type": "text",
        "id": "FYp9ZvSCCqsR"
      },
      "source": [
        "## **AdaBoostClassifier**"
      ]
    },
    {
      "cell_type": "code",
      "metadata": {
        "colab_type": "code",
        "id": "BuS2xNXqCqsS",
        "outputId": "f9cea330-d349-4433-f055-a47c5341b914",
        "colab": {
          "base_uri": "https://localhost:8080/",
          "height": 51
        }
      },
      "source": [
        "from sklearn.ensemble import AdaBoostClassifier\n",
        "model = AdaBoostClassifier()\n",
        "start=time.time()\n",
        "model.fit(X_train_vectorized, y_train)"
      ],
      "execution_count": 0,
      "outputs": [
        {
          "output_type": "execute_result",
          "data": {
            "text/plain": [
              "AdaBoostClassifier(algorithm='SAMME.R', base_estimator=None,\n",
              "          learning_rate=1.0, n_estimators=50, random_state=None)"
            ]
          },
          "metadata": {
            "tags": []
          },
          "execution_count": 32
        }
      ]
    },
    {
      "cell_type": "code",
      "metadata": {
        "colab_type": "code",
        "id": "UEulqW6uCqsT",
        "outputId": "6f4b0ad4-fd68-47fd-e0c0-83be34607d1a",
        "colab": {
          "base_uri": "https://localhost:8080/",
          "height": 51
        }
      },
      "source": [
        "X_test_vectorized = vect.transform(X_test)\n",
        "X_test_vectorized = add_feature(X_test_vectorized, X_test.str.len())\n",
        "X_test_vectorized = add_feature(X_test_vectorized, X_test.str.replace(r'\\D+', '').str.len())\n",
        "y_pred = model.predict(X_test_vectorized)\n",
        "Second_Adaboost =  round((accuracy_score(y_test, y_pred) * 100), 2)\n",
        "Second_Adaboost_Training = round((model.score(X_train_vectorized, y_train)*100),2)\n",
        "print('AdaBoost training Accuracy is : ',Second_Adaboost_Training)\n",
        "print('Adaboost Accuracy is : ',Second_Adaboost)\n",
        "row=[\"AdaBoost2\",0,0,0,0,0]\n",
        "row[-1]=Second_Adaboost\n",
        "row[-2]=Second_Adaboost_Training"
      ],
      "execution_count": 0,
      "outputs": [
        {
          "output_type": "stream",
          "text": [
            "AdaBoost training Accuracy is :  90.75\n",
            "Adaboost Accuracy is :  90.66\n"
          ],
          "name": "stdout"
        }
      ]
    },
    {
      "cell_type": "code",
      "metadata": {
        "colab_type": "code",
        "id": "TABfB3B7CqsV",
        "outputId": "cb49d259-c073-431a-b04f-a4a3da5c01dd",
        "colab": {
          "base_uri": "https://localhost:8080/",
          "height": 102
        }
      },
      "source": [
        "from sklearn.model_selection import cross_val_score\n",
        "scores = cross_val_score(model, X_train_vectorized, y_train, cv=10, scoring = \"accuracy\")\n",
        "print(\"Scores:\", scores*100)\n",
        "print(\"Mean:\", scores.mean()*100)\n",
        "print(\"Standard Deviation:\", scores.std())\n",
        "print(\"Accuracy:\",scores.mean()*100)"
      ],
      "execution_count": 0,
      "outputs": [
        {
          "output_type": "stream",
          "text": [
            "Scores: [90.59694393 90.34722635 90.66829181 90.44504563 90.65314981 90.51639564\n",
            " 90.42720813 90.5817998  90.3466524  90.72719705]\n",
            "Mean: 90.53099105564513\n",
            "Standard Deviation: 0.0012857803310044862\n",
            "Accuracy: 90.53099105564513\n"
          ],
          "name": "stdout"
        }
      ]
    },
    {
      "cell_type": "code",
      "metadata": {
        "colab_type": "code",
        "id": "867GZ6V-CqsX",
        "outputId": "5d0b31e4-8d4b-49a0-8a1a-773bb9c07b4e",
        "colab": {
          "base_uri": "https://localhost:8080/",
          "height": 51
        }
      },
      "source": [
        "from sklearn.model_selection import cross_val_predict\n",
        "from sklearn.metrics import confusion_matrix\n",
        "predictions = cross_val_predict(model, X_train_vectorized, y_train, cv=10)\n",
        "confusion_matrix(y_train, predictions)"
      ],
      "execution_count": 0,
      "outputs": [
        {
          "output_type": "execute_result",
          "data": {
            "text/plain": [
              "array([[ 33194,  27464],\n",
              "       [  4387, 271326]])"
            ]
          },
          "metadata": {
            "tags": []
          },
          "execution_count": 35
        }
      ]
    },
    {
      "cell_type": "code",
      "metadata": {
        "colab_type": "code",
        "id": "lImBpN1hCqsY",
        "outputId": "d76cc979-c945-4d87-e2d8-c2bc07380b66",
        "colab": {
          "base_uri": "https://localhost:8080/",
          "height": 68
        }
      },
      "source": [
        "\n",
        "print(\"Precision: %f \"%precision_score(y_train, predictions))\n",
        "print(\"Recall: %f \"%recall_score(y_train, predictions))\n",
        "print(\"F1: %f\"% f1_score(y_train, predictions))\n",
        "row[1]=round(precision_score(y_train, predictions)*100,2)\n",
        "row[2]=round(recall_score(y_train, predictions)*100,2)\n",
        "row[3]=round(f1_score(y_train, predictions)*100,2)"
      ],
      "execution_count": 0,
      "outputs": [
        {
          "output_type": "stream",
          "text": [
            "Precision: 0.908083 \n",
            "Recall: 0.984089 \n",
            "F1: 0.944559\n"
          ],
          "name": "stdout"
        }
      ]
    },
    {
      "cell_type": "code",
      "metadata": {
        "colab_type": "code",
        "id": "qNKoUk03Cqsa",
        "colab": {}
      },
      "source": [
        "table.append(row)"
      ],
      "execution_count": 0,
      "outputs": []
    },
    {
      "cell_type": "code",
      "metadata": {
        "colab_type": "code",
        "id": "vYt0m0awCqsc",
        "outputId": "e6222016-0e22-42e0-a260-2d2039c426fd",
        "colab": {
          "base_uri": "https://localhost:8080/",
          "height": 455
        }
      },
      "source": [
        "#Precision Recall Curve\n",
        "from sklearn.metrics import precision_recall_curve\n",
        "# getting the probabilities of our predictions y_scores\n",
        "y_scores = model.predict_proba(X_test_vectorized)\n",
        "y_scores = y_scores[:,1]\n",
        "precision, recall, threshold = precision_recall_curve(y_test, y_scores)\n",
        "plt.figure(figsize=(14, 7))\n",
        "plot_precision_and_recall(precision, recall, threshold)\n",
        "plt.show()"
      ],
      "execution_count": 0,
      "outputs": [
        {
          "output_type": "display_data",
          "data": {
            "image/png": "[encoded data removed]",
            "text/plain": [
              "<Figure size 1008x504 with 1 Axes>"
            ]
          },
          "metadata": {
            "tags": []
          }
        }
      ]
    },
    {
      "cell_type": "code",
      "metadata": {
        "colab_type": "code",
        "id": "juhsG2ffCqse",
        "outputId": "57b574db-f962-465a-a8a1-08e8a6d71d49",
        "colab": {
          "base_uri": "https://localhost:8080/",
          "height": 34
        }
      },
      "source": [
        "end=time.time()-start\n",
        "print(end)"
      ],
      "execution_count": 0,
      "outputs": [
        {
          "output_type": "stream",
          "text": [
            "1115.3598489761353\n"
          ],
          "name": "stdout"
        }
      ]
    },
    {
      "cell_type": "markdown",
      "metadata": {
        "colab_type": "text",
        "id": "incBg5wGCqsh"
      },
      "source": [
        "## **LogisticRegression**"
      ]
    },
    {
      "cell_type": "code",
      "metadata": {
        "colab_type": "code",
        "id": "Kz-VTaxGCqsk",
        "outputId": "68920a96-54df-44a3-8ed7-630fd7dc1a0e",
        "colab": {
          "base_uri": "https://localhost:8080/",
          "height": 85
        }
      },
      "source": [
        "from sklearn.linear_model import LogisticRegression\n",
        "model = LogisticRegression(solver='liblinear')\n",
        "start=time.time()\n",
        "model.fit(X_train_vectorized, y_train)"
      ],
      "execution_count": 0,
      "outputs": [
        {
          "output_type": "execute_result",
          "data": {
            "text/plain": [
              "LogisticRegression(C=1.0, class_weight=None, dual=False, fit_intercept=True,\n",
              "          intercept_scaling=1, max_iter=100, multi_class='warn',\n",
              "          n_jobs=None, penalty='l2', random_state=None, solver='liblinear',\n",
              "          tol=0.0001, verbose=0, warm_start=False)"
            ]
          },
          "metadata": {
            "tags": []
          },
          "execution_count": 40
        }
      ]
    },
    {
      "cell_type": "code",
      "metadata": {
        "colab_type": "code",
        "id": "2Y3smifVCqss",
        "outputId": "004bc093-1852-4daa-ff81-10dea3817c8d",
        "colab": {
          "base_uri": "https://localhost:8080/",
          "height": 51
        }
      },
      "source": [
        "X_test_vectorized = vect.transform(X_test)\n",
        "X_test_vectorized = add_feature(X_test_vectorized, X_test.str.len())\n",
        "X_test_vectorized = add_feature(X_test_vectorized, X_test.str.replace(r'\\D+', '').str.len())\n",
        "y_pred = model.predict(X_test_vectorized)\n",
        "Second_LogisticRegression =  round((accuracy_score(y_test, y_pred) * 100), 2)\n",
        "Second_LogisticRegressionTraining= round((model.score(X_train_vectorized, y_train)*100),2)\n",
        "print('LogisticRegression Training Accuracy is : ',Second_LogisticRegressionTraining)\n",
        "print('LogisticRegression Accuracy is : ',Second_LogisticRegression)\n",
        "row=[\"LogisticRegression2\",0,0,0,0,0]\n",
        "row[-1]=Second_LogisticRegression\n",
        "row[-2]=Second_LogisticRegressionTraining"
      ],
      "execution_count": 0,
      "outputs": [
        {
          "output_type": "stream",
          "text": [
            "LogisticRegression Training Accuracy is :  97.15\n",
            "LogisticRegression Accuracy is :  96.76\n"
          ],
          "name": "stdout"
        }
      ]
    },
    {
      "cell_type": "code",
      "metadata": {
        "colab_type": "code",
        "id": "D5INO0VLCqsv",
        "outputId": "95193de8-164d-4dcf-f5ec-86bae0896f34",
        "colab": {
          "base_uri": "https://localhost:8080/",
          "height": 102
        }
      },
      "source": [
        "from sklearn.model_selection import cross_val_score\n",
        "scores = cross_val_score(model, X_train_vectorized, y_train, cv=10, scoring = \"accuracy\")\n",
        "print(\"Scores:\", scores*100)\n",
        "print(\"Mean:\", scores.mean()*100)\n",
        "print(\"Standard Deviation:\", scores.std())\n",
        "print(\"Accuracy:\",scores.mean()*100)"
      ],
      "execution_count": 0,
      "outputs": [
        {
          "output_type": "stream",
          "text": [
            "Scores: [96.7179975  96.61097568 96.71205185 96.83087077 96.8724916  96.75952077\n",
            " 96.63763118 96.67033326 96.85456059 96.6850993 ]\n",
            "Mean: 96.7351532497989\n",
            "Standard Deviation: 0.0008679930887537289\n",
            "Accuracy: 96.7351532497989\n"
          ],
          "name": "stdout"
        }
      ]
    },
    {
      "cell_type": "code",
      "metadata": {
        "colab_type": "code",
        "id": "5IYNL6icCqs0",
        "outputId": "37b70d5d-b477-43e2-8c1c-575e99466bbb",
        "colab": {
          "base_uri": "https://localhost:8080/",
          "height": 51
        }
      },
      "source": [
        "from sklearn.model_selection import cross_val_predict\n",
        "from sklearn.metrics import confusion_matrix\n",
        "predictions = cross_val_predict(model, X_train_vectorized, y_train, cv=10)\n",
        "confusion_matrix(y_train, predictions)"
      ],
      "execution_count": 0,
      "outputs": [
        {
          "output_type": "execute_result",
          "data": {
            "text/plain": [
              "array([[ 51354,   9304],\n",
              "       [  1678, 274035]])"
            ]
          },
          "metadata": {
            "tags": []
          },
          "execution_count": 43
        }
      ]
    },
    {
      "cell_type": "code",
      "metadata": {
        "colab_type": "code",
        "id": "gHxH5tL6Cqs3",
        "outputId": "7065c696-34bb-4e31-df47-b77cb990eebc",
        "colab": {
          "base_uri": "https://localhost:8080/",
          "height": 68
        }
      },
      "source": [
        "print(\"Precision: %f \"%precision_score(y_train, predictions))\n",
        "print(\"Recall: %f \"%recall_score(y_train, predictions))\n",
        "print(\"F1: %f\"% f1_score(y_train, predictions))\n",
        "row[1]=round(precision_score(y_train, predictions)*100,2)\n",
        "row[2]=round(recall_score(y_train, predictions)*100,2)\n",
        "row[3]=round(f1_score(y_train, predictions)*100,2)"
      ],
      "execution_count": 0,
      "outputs": [
        {
          "output_type": "stream",
          "text": [
            "Precision: 0.967163 \n",
            "Recall: 0.993914 \n",
            "F1: 0.980356\n"
          ],
          "name": "stdout"
        }
      ]
    },
    {
      "cell_type": "code",
      "metadata": {
        "colab_type": "code",
        "id": "dldvP3iZCqs5",
        "colab": {}
      },
      "source": [
        "table.append(row)"
      ],
      "execution_count": 0,
      "outputs": []
    },
    {
      "cell_type": "code",
      "metadata": {
        "colab_type": "code",
        "id": "tMxL3lGtCqs6",
        "outputId": "60baaa6f-216e-4b6b-8106-be3a33316239",
        "colab": {
          "base_uri": "https://localhost:8080/",
          "height": 34
        }
      },
      "source": [
        "print(row)"
      ],
      "execution_count": 0,
      "outputs": [
        {
          "output_type": "stream",
          "text": [
            "['LogisticRegression2', 96.72, 99.39, 98.04, 97.15, 96.76]\n"
          ],
          "name": "stdout"
        }
      ]
    },
    {
      "cell_type": "code",
      "metadata": {
        "colab_type": "code",
        "id": "Uhe4_S0uCqs7",
        "outputId": "ba559044-c795-45f5-cf36-c59cc670738b",
        "colab": {
          "base_uri": "https://localhost:8080/",
          "height": 455
        }
      },
      "source": [
        "#Precision Recall Curve\n",
        "from sklearn.metrics import precision_recall_curve\n",
        "# getting the probabilities of our predictions y_scores\n",
        "y_scores = model.predict_proba(X_test_vectorized)\n",
        "y_scores = y_scores[:,1]\n",
        "precision, recall, threshold = precision_recall_curve(y_test, y_scores)\n",
        "plt.figure(figsize=(14, 7))\n",
        "plot_precision_and_recall(precision, recall, threshold)\n",
        "plt.show()"
      ],
      "execution_count": 0,
      "outputs": [
        {
          "output_type": "display_data",
          "data": {
            "image/png": "[encoded data removed]",
            "text/plain": [
              "<Figure size 1008x504 with 1 Axes>"
            ]
          },
          "metadata": {
            "tags": []
          }
        }
      ]
    },
    {
      "cell_type": "code",
      "metadata": {
        "colab_type": "code",
        "id": "58VTDTwbCqs-",
        "outputId": "fe2f5b09-00ad-458a-9883-2b87d3d848ba",
        "colab": {
          "base_uri": "https://localhost:8080/",
          "height": 34
        }
      },
      "source": [
        "end=time.time()-start\n",
        "print(end)"
      ],
      "execution_count": 0,
      "outputs": [
        {
          "output_type": "stream",
          "text": [
            "312.6230776309967\n"
          ],
          "name": "stdout"
        }
      ]
    },
    {
      "cell_type": "markdown",
      "metadata": {
        "colab_type": "text",
        "id": "clW_zwxoCqtB"
      },
      "source": [
        "## Random **Forest**"
      ]
    },
    {
      "cell_type": "code",
      "metadata": {
        "colab_type": "code",
        "id": "9BVXsVFdCqtC",
        "outputId": "683a4bdd-30bb-4d65-e55b-2634c977f515",
        "colab": {
          "base_uri": "https://localhost:8080/",
          "height": 190
        }
      },
      "source": [
        "from sklearn.ensemble import RandomForestClassifier\n",
        "model = RandomForestClassifier()\n",
        "start=time.time()\n",
        "model.fit(X_train_vectorized, y_train)"
      ],
      "execution_count": 0,
      "outputs": [
        {
          "output_type": "stream",
          "text": [
            "/usr/local/lib/python3.6/dist-packages/sklearn/ensemble/forest.py:246: FutureWarning: The default value of n_estimators will change from 10 in version 0.20 to 100 in 0.22.\n",
            "  \"10 in version 0.20 to 100 in 0.22.\", FutureWarning)\n"
          ],
          "name": "stderr"
        },
        {
          "output_type": "execute_result",
          "data": {
            "text/plain": [
              "RandomForestClassifier(bootstrap=True, class_weight=None, criterion='gini',\n",
              "            max_depth=None, max_features='auto', max_leaf_nodes=None,\n",
              "            min_impurity_decrease=0.0, min_impurity_split=None,\n",
              "            min_samples_leaf=1, min_samples_split=2,\n",
              "            min_weight_fraction_leaf=0.0, n_estimators=10, n_jobs=None,\n",
              "            oob_score=False, random_state=None, verbose=0,\n",
              "            warm_start=False)"
            ]
          },
          "metadata": {
            "tags": []
          },
          "execution_count": 49
        }
      ]
    },
    {
      "cell_type": "code",
      "metadata": {
        "colab_type": "code",
        "id": "ns0XL6BNCqtI",
        "outputId": "4b43d577-afe2-4744-a803-4c09bba4a676",
        "colab": {
          "base_uri": "https://localhost:8080/",
          "height": 51
        }
      },
      "source": [
        "X_test_vectorized = vect.transform(X_test)\n",
        "X_test_vectorized = add_feature(X_test_vectorized, X_test.str.len())\n",
        "X_test_vectorized = add_feature(X_test_vectorized, X_test.str.replace(r'\\D+', '').str.len())\n",
        "y_pred = model.predict(X_test_vectorized)\n",
        "Third_RandomForest =  round((accuracy_score(y_test, y_pred) * 100), 2)\n",
        "Training_RandomForest = round((model.score(X_train_vectorized, y_train)*100),2)\n",
        "print('RandomForest training Accuracy is : ',Training_RandomForest)\n",
        "print('RandomForest testing Accuracy is : ',Third_RandomForest)\n",
        "row=[\"RandomForest2\",0.0,0.0,0.0,Training_RandomForest,Third_RandomForest]\n"
      ],
      "execution_count": 0,
      "outputs": [
        {
          "output_type": "stream",
          "text": [
            "RandomForest training Accuracy is :  99.08\n",
            "RandomForest testing Accuracy is :  97.38\n"
          ],
          "name": "stdout"
        }
      ]
    },
    {
      "cell_type": "code",
      "metadata": {
        "colab_type": "code",
        "id": "aqG4CujsCqtK",
        "outputId": "6cbb8482-76dd-49e7-a083-889841e9293a",
        "colab": {
          "base_uri": "https://localhost:8080/",
          "height": 102
        }
      },
      "source": [
        "from sklearn.model_selection import cross_val_score\n",
        "scores = cross_val_score(model, X_train_vectorized, y_train, cv=10, scoring = \"accuracy\")\n",
        "print(\"Scores:\", scores*100)\n",
        "print(\"Mean:\", scores.mean()*100)\n",
        "print(\"Standard Deviation:\", scores.std())\n",
        "print(\"Accuracy:\",scores.mean()*100)"
      ],
      "execution_count": 0,
      "outputs": [
        {
          "output_type": "stream",
          "text": [
            "Scores: [97.24716095 97.28580772 97.40472085 97.34815828 97.52356037 97.41653536\n",
            " 97.27680828 97.36302286 97.58294684 97.57402783]\n",
            "Mean: 97.40227493321386\n",
            "Standard Deviation: 0.0011614519952166786\n",
            "Accuracy: 97.40227493321386\n"
          ],
          "name": "stdout"
        }
      ]
    },
    {
      "cell_type": "code",
      "metadata": {
        "colab_type": "code",
        "id": "feugzyaXCqtM",
        "outputId": "3723d0b5-baa1-4b59-9898-a0e89b7190b1",
        "colab": {
          "base_uri": "https://localhost:8080/",
          "height": 51
        }
      },
      "source": [
        "from sklearn.model_selection import cross_val_predict\n",
        "from sklearn.metrics import confusion_matrix\n",
        "predictions = cross_val_predict(model, X_train_vectorized, y_train, cv=10)\n",
        "confusion_matrix(y_train, predictions)"
      ],
      "execution_count": 0,
      "outputs": [
        {
          "output_type": "execute_result",
          "data": {
            "text/plain": [
              "array([[ 54987,   5671],\n",
              "       [  3156, 272557]])"
            ]
          },
          "metadata": {
            "tags": []
          },
          "execution_count": 52
        }
      ]
    },
    {
      "cell_type": "code",
      "metadata": {
        "colab_type": "code",
        "id": "9CzFEhx0CqtO",
        "outputId": "a17c957e-e4e0-41af-9c55-8c38d4ca3b9c",
        "colab": {
          "base_uri": "https://localhost:8080/",
          "height": 85
        }
      },
      "source": [
        "print(\"Precision: %f \"%precision_score(y_train, predictions))\n",
        "print(\"Recall: %f \"%recall_score(y_train, predictions))\n",
        "print(\"F1: %f\"% f1_score(y_train, predictions))\n",
        "row[1]=round(precision_score(y_train, predictions)*100,2)\n",
        "row[2]=round(recall_score(y_train, predictions)*100,2)\n",
        "row[3]=round(f1_score(y_train, predictions)*100,2)\n",
        "print(row)"
      ],
      "execution_count": 0,
      "outputs": [
        {
          "output_type": "stream",
          "text": [
            "Precision: 0.979617 \n",
            "Recall: 0.988553 \n",
            "F1: 0.984065\n",
            "['RandomForest2', 97.96, 98.86, 98.41, 99.08, 97.38]\n"
          ],
          "name": "stdout"
        }
      ]
    },
    {
      "cell_type": "code",
      "metadata": {
        "colab_type": "code",
        "id": "aAqL4TdMCqtP",
        "colab": {}
      },
      "source": [
        "table.append(row)"
      ],
      "execution_count": 0,
      "outputs": []
    },
    {
      "cell_type": "code",
      "metadata": {
        "colab_type": "code",
        "id": "kcHAqyN3CqtU",
        "colab": {}
      },
      "source": [
        "#Precision Recall Curve\n",
        "from sklearn.metrics import precision_recall_curve\n",
        "# getting the probabilities of our predictions y_scores\n",
        "y_scores = model.predict_proba(X_test_vectorized)\n",
        "y_scores = y_scores[:,1]\n",
        "precision, recall, threshold = precision_recall_curve(y_test, y_scores)"
      ],
      "execution_count": 0,
      "outputs": []
    },
    {
      "cell_type": "code",
      "metadata": {
        "colab_type": "code",
        "id": "6oV8jMWKCqtX",
        "outputId": "a65f71aa-b562-42eb-a333-93d407b1840c",
        "colab": {
          "base_uri": "https://localhost:8080/",
          "height": 455
        }
      },
      "source": [
        "\n",
        "plt.figure(figsize=(14, 7))\n",
        "plot_precision_and_recall(precision, recall, threshold)\n",
        "plt.show()"
      ],
      "execution_count": 0,
      "outputs": [
        {
          "output_type": "display_data",
          "data": {
            "image/png": "[encoded data removed]",
            "text/plain": [
              "<Figure size 1008x504 with 1 Axes>"
            ]
          },
          "metadata": {
            "tags": []
          }
        }
      ]
    },
    {
      "cell_type": "code",
      "metadata": {
        "colab_type": "code",
        "id": "dtXRbZRfCqtZ",
        "outputId": "cf85a420-4d4b-46d1-c35e-48743a3936b4",
        "colab": {
          "base_uri": "https://localhost:8080/",
          "height": 34
        }
      },
      "source": [
        "end=time.time()-start\n",
        "print(end)"
      ],
      "execution_count": 0,
      "outputs": [
        {
          "output_type": "stream",
          "text": [
            "3156.0522906780243\n"
          ],
          "name": "stdout"
        }
      ]
    },
    {
      "cell_type": "code",
      "metadata": {
        "colab_type": "code",
        "id": "Zc5kX5VXCqta",
        "outputId": "495f0a35-2210-40db-dfb6-929a3bb4aaff",
        "colab": {
          "base_uri": "https://localhost:8080/",
          "height": 136
        }
      },
      "source": [
        "table.pop(0)\n",
        "df2=pd.DataFrame(table,columns=[\"Classifier\",\"Precision\",\"Recall\",\"F1 Score\",\"Training %\",\"Testing %\"])\n",
        "print(df2)"
      ],
      "execution_count": 0,
      "outputs": [
        {
          "output_type": "stream",
          "text": [
            "            Classifier  Precision  Recall  F1 Score  Training %  Testing %\n",
            "0       MultinomialNB2      96.61   98.93     97.75       96.58      96.24\n",
            "1      Decision Tree 2      97.19   98.12     97.65       99.17      96.59\n",
            "2           LinearSVC2      97.56   99.13     98.34       97.78      97.17\n",
            "3            AdaBoost2      90.81   98.41     94.46       90.75      90.66\n",
            "4  LogisticRegression2      96.72   99.39     98.04       97.15      96.76\n",
            "5        RandomForest2      97.96   98.86     98.41       99.08      97.38\n"
          ],
          "name": "stdout"
        }
      ]
    },
    {
      "cell_type": "markdown",
      "metadata": {
        "colab_type": "text",
        "id": "r8rY3RI7Q5U_"
      },
      "source": [
        "# MODEL 3 \n"
      ]
    },
    {
      "cell_type": "code",
      "metadata": {
        "colab_type": "code",
        "outputId": "07774aae-26dc-49e9-c4a1-1388a29ca533",
        "id": "j4uCQu15Q5VB",
        "colab": {
          "base_uri": "https://localhost:8080/",
          "height": 72
        }
      },
      "source": [
        "vect = TfidfVectorizer(min_df=5, ngram_range=(2, 5)).fit(X_train)\n",
        "\n",
        "print('Vocabulary len:', len(vect.get_feature_names()))\n",
        "print('Longest word:', max(vect.vocabulary_, key=len))\n",
        "\n",
        "X_train_vectorized = vect.transform(X_train)\n",
        "\n",
        "X_train_vectorized = add_feature(X_train_vectorized, X_train.str.len())\n",
        "X_train_vectorized = add_feature(X_train_vectorized, X_train.str.replace(r'\\D+', '').str.len())\n",
        "X_train_vectorized = add_feature(X_train_vectorized, X_train.str.replace(r'\\w+', '').str.len())"
      ],
      "execution_count": 0,
      "outputs": [
        {
          "output_type": "stream",
          "text": [
            "Vocabulary len: 81556\n",
            "Longest word: com khjkghkjhtyutryr34635465trhgfcvndsfgrey56765756yreytr greenbrookrec org cvbncvdsjfkdsghewuityewrui3495873485o34ui534y5324jkg53k4j5bv325nbmcvbncvdsjfkdsghewuityewrui3495873485o34ui534y5324jkg53k4j5bv325nbmcvbncvdsjfkdsghewuityewrui3495873485o34ui534y5324jkg53k4j5bv325nbm\n"
          ],
          "name": "stdout"
        }
      ]
    },
    {
      "cell_type": "code",
      "metadata": {
        "colab_type": "code",
        "id": "lXw0a6XNQ5VG",
        "colab": {}
      },
      "source": [
        "table=[[]]"
      ],
      "execution_count": 0,
      "outputs": []
    },
    {
      "cell_type": "markdown",
      "metadata": {
        "colab_type": "text",
        "id": "k2cENENrQ5VH"
      },
      "source": [
        "## **MultinomialNB**"
      ]
    },
    {
      "cell_type": "code",
      "metadata": {
        "colab_type": "code",
        "outputId": "4dd82ffa-31f3-4a6c-dd4f-f0de84d8df96",
        "id": "xAe6NQbyQ5VI",
        "colab": {
          "base_uri": "https://localhost:8080/",
          "height": 34
        }
      },
      "source": [
        "model = MultinomialNB(alpha=0.1)\n",
        "start=time.time()\n",
        "model.fit(X_train_vectorized, y_train)"
      ],
      "execution_count": 0,
      "outputs": [
        {
          "output_type": "execute_result",
          "data": {
            "text/plain": [
              "MultinomialNB(alpha=0.1, class_prior=None, fit_prior=True)"
            ]
          },
          "metadata": {
            "tags": []
          },
          "execution_count": 9
        }
      ]
    },
    {
      "cell_type": "code",
      "metadata": {
        "colab_type": "code",
        "outputId": "e317dcc0-245c-4a5e-addb-0b997b11832a",
        "id": "8S9J5vUTQ5VL",
        "colab": {
          "base_uri": "https://localhost:8080/",
          "height": 52
        }
      },
      "source": [
        "X_test_vectorized = vect.transform(X_test)\n",
        "X_test_vectorized = add_feature(X_test_vectorized, X_test.str.len())\n",
        "X_test_vectorized = add_feature(X_test_vectorized, X_test.str.replace(r'\\D+', '').str.len())\n",
        "X_test_vectorized = add_feature(X_test_vectorized, X_test.str.replace(r'\\w+', '').str.len())\n",
        "y_pred = model.predict(X_test_vectorized)\n",
        "Third_MutinomialNB =  round((accuracy_score(y_test, y_pred) * 100), 2)\n",
        "Training_Third_MutinomialNB = round((model.score(X_train_vectorized, y_train)*100),2)\n",
        "print('Mutinomial Naive Bayes training Accuracy is : ',Training_Third_MutinomialNB)\n",
        "print('Mutinomial Naive Bayes Accuracy is : ',Third_MutinomialNB)\n",
        "row=[\"MultinomialNB3\",0,0,0,0,0]\n",
        "row[-1]=Third_MutinomialNB\n",
        "row[-2]=Training_Third_MutinomialNB"
      ],
      "execution_count": 0,
      "outputs": [
        {
          "output_type": "stream",
          "text": [
            "Mutinomial Naive Bayes training Accuracy is :  94.75\n",
            "Mutinomial Naive Bayes Accuracy is :  94.43\n"
          ],
          "name": "stdout"
        }
      ]
    },
    {
      "cell_type": "code",
      "metadata": {
        "colab_type": "code",
        "outputId": "9d3aeaf2-3934-4e33-9afc-c2a9f9a71e79",
        "id": "RBedUhrFQ5VO",
        "colab": {
          "base_uri": "https://localhost:8080/",
          "height": 105
        }
      },
      "source": [
        "from sklearn.model_selection import cross_val_score\n",
        "scores = cross_val_score(model, X_train_vectorized, y_train, cv=10, scoring = \"accuracy\")\n",
        "print(\"Scores:\", scores*100)\n",
        "print(\"Mean:\", scores.mean()*100)\n",
        "print(\"Standard Deviation:\", scores.std())\n",
        "print(\"Accuracy:\",scores.mean()*100)"
      ],
      "execution_count": 0,
      "outputs": [
        {
          "output_type": "stream",
          "text": [
            "Scores: [94.64593614 94.54783281 94.69944705 94.69928947 94.63091239 94.52388739\n",
            " 94.51496864 94.54767072 94.60102271 94.63372577]\n",
            "Mean: 94.6044693091907\n",
            "Standard Deviation: 0.0006498906036384423\n",
            "Accuracy: 94.6044693091907\n"
          ],
          "name": "stdout"
        }
      ]
    },
    {
      "cell_type": "code",
      "metadata": {
        "colab_type": "code",
        "outputId": "6f245eb3-6f00-45ad-9b12-3b8fbcc8729f",
        "id": "1rkE1Qq7Q5VS",
        "colab": {
          "base_uri": "https://localhost:8080/",
          "height": 52
        }
      },
      "source": [
        "from sklearn.model_selection import cross_val_predict\n",
        "from sklearn.metrics import confusion_matrix\n",
        "predictions = cross_val_predict(model, X_train_vectorized, y_train, cv=10)\n",
        "confusion_matrix(y_train, predictions)"
      ],
      "execution_count": 0,
      "outputs": [
        {
          "output_type": "execute_result",
          "data": {
            "text/plain": [
              "array([[ 45674,  14984],\n",
              "       [  3165, 272548]])"
            ]
          },
          "metadata": {
            "tags": []
          },
          "execution_count": 12
        }
      ]
    },
    {
      "cell_type": "code",
      "metadata": {
        "colab_type": "code",
        "outputId": "2e9abe90-2e57-4282-fe66-67cd48265e5a",
        "id": "i92OePvJQ5VV",
        "colab": {
          "base_uri": "https://localhost:8080/",
          "height": 70
        }
      },
      "source": [
        "print(\"Precision: %f \"%precision_score(y_train, predictions))\n",
        "print(\"Recall: %f \"%recall_score(y_train, predictions))\n",
        "print(\"F1: %f\"% f1_score(y_train, predictions))\n",
        "row[1]=round(precision_score(y_train, predictions)*100,2)\n",
        "row[2]=round(recall_score(y_train, predictions)*100,2)\n",
        "row[3]=round(f1_score(y_train, predictions)*100,2)"
      ],
      "execution_count": 0,
      "outputs": [
        {
          "output_type": "stream",
          "text": [
            "Precision: 0.947888 \n",
            "Recall: 0.988521 \n",
            "F1: 0.967778\n"
          ],
          "name": "stdout"
        }
      ]
    },
    {
      "cell_type": "code",
      "metadata": {
        "colab_type": "code",
        "id": "uSjvylOOQ5Va",
        "colab": {}
      },
      "source": [
        "table.append(row)"
      ],
      "execution_count": 0,
      "outputs": []
    },
    {
      "cell_type": "code",
      "metadata": {
        "colab_type": "code",
        "outputId": "0f16beb5-8034-48c2-94c0-f1ddea81295f",
        "id": "LRKghoW0Q5Vc",
        "colab": {
          "base_uri": "https://localhost:8080/",
          "height": 454
        }
      },
      "source": [
        "#Precision Recall Curve\n",
        "from sklearn.metrics import precision_recall_curve\n",
        "# getting the probabilities of our predictions y_scores\n",
        "y_scores = model.predict_proba(X_test_vectorized)\n",
        "y_scores = y_scores[:,1]\n",
        "precision, recall, threshold = precision_recall_curve(y_test, y_scores)\n",
        "plt.figure(figsize=(14, 7))\n",
        "plot_precision_and_recall(precision, recall, threshold)\n",
        "plt.show()"
      ],
      "execution_count": 0,
      "outputs": [
        {
          "output_type": "display_data",
          "data": {
            "image/png": "[encoded data removed]",
            "text/plain": [
              "<Figure size 1008x504 with 1 Axes>"
            ]
          },
          "metadata": {
            "tags": []
          }
        }
      ]
    },
    {
      "cell_type": "code",
      "metadata": {
        "colab_type": "code",
        "outputId": "69de3fad-48e3-4663-e70b-0cc63fce4897",
        "id": "f8vnYuSOQ5Vg",
        "colab": {
          "base_uri": "https://localhost:8080/",
          "height": 34
        }
      },
      "source": [
        "end=time.time()-start\n",
        "print(end)"
      ],
      "execution_count": 0,
      "outputs": [
        {
          "output_type": "stream",
          "text": [
            "7.503722667694092\n"
          ],
          "name": "stdout"
        }
      ]
    },
    {
      "cell_type": "markdown",
      "metadata": {
        "colab_type": "text",
        "id": "4WOzdTYkQ5Vk"
      },
      "source": [
        "## **DecisionTreeClassifier**\n"
      ]
    },
    {
      "cell_type": "code",
      "metadata": {
        "colab_type": "code",
        "outputId": "854a042e-6dea-4a12-835c-be2cbaa6e7a0",
        "id": "pcsDZkw_Q5Vk",
        "colab": {
          "base_uri": "https://localhost:8080/",
          "height": 123
        }
      },
      "source": [
        "from sklearn.tree import DecisionTreeClassifier\n",
        "model = DecisionTreeClassifier()\n",
        "start=time.time()\n",
        "model.fit(X_train_vectorized, y_train)"
      ],
      "execution_count": 0,
      "outputs": [
        {
          "output_type": "execute_result",
          "data": {
            "text/plain": [
              "DecisionTreeClassifier(class_weight=None, criterion='gini', max_depth=None,\n",
              "            max_features=None, max_leaf_nodes=None,\n",
              "            min_impurity_decrease=0.0, min_impurity_split=None,\n",
              "            min_samples_leaf=1, min_samples_split=2,\n",
              "            min_weight_fraction_leaf=0.0, presort=False, random_state=None,\n",
              "            splitter='best')"
            ]
          },
          "metadata": {
            "tags": []
          },
          "execution_count": 17
        }
      ]
    },
    {
      "cell_type": "code",
      "metadata": {
        "colab_type": "code",
        "outputId": "4a8e6dbb-0cca-4f37-cfea-0597330bee4e",
        "id": "GKzY-Sm4Q5Vn",
        "colab": {
          "base_uri": "https://localhost:8080/",
          "height": 52
        }
      },
      "source": [
        "X_test_vectorized = vect.transform(X_test)\n",
        "X_test_vectorized = add_feature(X_test_vectorized, X_test.str.len())\n",
        "X_test_vectorized = add_feature(X_test_vectorized, X_test.str.replace(r'\\D+', '').str.len())\n",
        "X_test_vectorized = add_feature(X_test_vectorized, X_test.str.replace(r'\\w+', '').str.len())\n",
        "y_pred = model.predict(X_test_vectorized)\n",
        "Third_Decisiontree =  round((accuracy_score(y_test, y_pred) * 100), 2)\n",
        "Training_Third_Decisiontree = round((model.score(X_train_vectorized, y_train)*100),2)\n",
        "print('DecisionTree training Accuracy is : ',Training_Third_Decisiontree)\n",
        "print('DecisionTree Accuracy is : ',Third_Decisiontree)\n",
        "row=[\"DecisionTree3\",0,0,0,0,0]\n",
        "row[-1]=Third_Decisiontree\n",
        "row[-2]=Training_Third_Decisiontree"
      ],
      "execution_count": 0,
      "outputs": [
        {
          "output_type": "stream",
          "text": [
            "DecisionTree training Accuracy is :  97.67\n",
            "DecisionTree Accuracy is :  93.35\n"
          ],
          "name": "stdout"
        }
      ]
    },
    {
      "cell_type": "code",
      "metadata": {
        "colab_type": "code",
        "outputId": "3d542737-1378-4328-f33c-f0a0804952a9",
        "id": "K2N7OJNGQ5Vv",
        "colab": {
          "base_uri": "https://localhost:8080/",
          "height": 105
        }
      },
      "source": [
        "from sklearn.model_selection import cross_val_score\n",
        "scores = cross_val_score(model, X_train_vectorized, y_train, cv=10, scoring = \"accuracy\")\n",
        "print(\"Scores:\", scores*100)\n",
        "print(\"Mean:\", scores.mean()*100)\n",
        "print(\"Standard Deviation:\", scores.std())\n",
        "print(\"Accuracy:\",scores.mean()*100)"
      ],
      "execution_count": 0,
      "outputs": [
        {
          "output_type": "stream",
          "text": [
            "Scores: [93.14465783 93.05844581 93.35572864 93.11472486 93.32877486 93.25742486\n",
            " 93.31093736 92.63311235 93.26911642 93.22154834]\n",
            "Mean: 93.16944713212382\n",
            "Standard Deviation: 0.002010172948025063\n",
            "Accuracy: 93.16944713212382\n"
          ],
          "name": "stdout"
        }
      ]
    },
    {
      "cell_type": "code",
      "metadata": {
        "colab_type": "code",
        "outputId": "8420883b-e124-42f0-a4a4-947d670b5573",
        "id": "ysnl65qkQ5Vz",
        "colab": {
          "base_uri": "https://localhost:8080/",
          "height": 52
        }
      },
      "source": [
        "from sklearn.model_selection import cross_val_predict\n",
        "from sklearn.metrics import confusion_matrix\n",
        "predictions = cross_val_predict(model, X_train_vectorized, y_train, cv=10)\n",
        "confusion_matrix(y_train, predictions)"
      ],
      "execution_count": 0,
      "outputs": [
        {
          "output_type": "execute_result",
          "data": {
            "text/plain": [
              "array([[ 48125,  12533],\n",
              "       [ 10371, 265342]])"
            ]
          },
          "metadata": {
            "tags": []
          },
          "execution_count": 20
        }
      ]
    },
    {
      "cell_type": "code",
      "metadata": {
        "colab_type": "code",
        "outputId": "83587aeb-d0a5-4dde-f05e-2d9f0e919911",
        "id": "OPuu2iOmQ5V2",
        "colab": {
          "base_uri": "https://localhost:8080/",
          "height": 70
        }
      },
      "source": [
        "print(\"Precision: %f \"%precision_score(y_train, predictions))\n",
        "print(\"Recall: %f \"%recall_score(y_train, predictions))\n",
        "print(\"F1: %f\"% f1_score(y_train, predictions))\n",
        "row[1]=round(precision_score(y_train, predictions)*100,2)\n",
        "row[2]=round(recall_score(y_train, predictions)*100,2)\n",
        "row[3]=round(f1_score(y_train, predictions)*100,2)"
      ],
      "execution_count": 0,
      "outputs": [
        {
          "output_type": "stream",
          "text": [
            "Precision: 0.954897 \n",
            "Recall: 0.962385 \n",
            "F1: 0.958626\n"
          ],
          "name": "stdout"
        }
      ]
    },
    {
      "cell_type": "code",
      "metadata": {
        "colab_type": "code",
        "id": "awSUc0kCQ5V5",
        "colab": {}
      },
      "source": [
        "table.append(row)"
      ],
      "execution_count": 0,
      "outputs": []
    },
    {
      "cell_type": "code",
      "metadata": {
        "colab_type": "code",
        "outputId": "ff761481-187f-4a98-f67b-9e027856955d",
        "id": "tmF7YYsfQ5V8",
        "colab": {
          "base_uri": "https://localhost:8080/",
          "height": 454
        }
      },
      "source": [
        "#Precision Recall Curve\n",
        "from sklearn.metrics import precision_recall_curve\n",
        "# getting the probabilities of our predictions y_scores\n",
        "y_scores = model.predict_proba(X_test_vectorized)\n",
        "y_scores = y_scores[:,1]\n",
        "precision, recall, threshold = precision_recall_curve(y_test, y_scores)\n",
        "plt.figure(figsize=(14, 7))\n",
        "plot_precision_and_recall(precision, recall, threshold)\n",
        "plt.show()"
      ],
      "execution_count": 0,
      "outputs": [
        {
          "output_type": "display_data",
          "data": {
            "image/png": "[encoded data removed]",
            "text/plain": [
              "<Figure size 1008x504 with 1 Axes>"
            ]
          },
          "metadata": {
            "tags": []
          }
        }
      ]
    },
    {
      "cell_type": "code",
      "metadata": {
        "colab_type": "code",
        "outputId": "fc4dec3f-3280-44ea-af03-c40ab71899d6",
        "id": "8W-wzdkwQ5WA",
        "colab": {
          "base_uri": "https://localhost:8080/",
          "height": 34
        }
      },
      "source": [
        "end=time.time()-start\n",
        "print(end)"
      ],
      "execution_count": 0,
      "outputs": [
        {
          "output_type": "stream",
          "text": [
            "5457.644064426422\n"
          ],
          "name": "stdout"
        }
      ]
    },
    {
      "cell_type": "markdown",
      "metadata": {
        "colab_type": "text",
        "id": "_GhwNI2jQ5WC"
      },
      "source": [
        "## **LinearSVC**"
      ]
    },
    {
      "cell_type": "code",
      "metadata": {
        "colab_type": "code",
        "outputId": "1b041381-ebd9-48da-d3ba-bbdcae9d39ee",
        "id": "44eYDvRqQ5WC",
        "colab": {
          "base_uri": "https://localhost:8080/",
          "height": 105
        }
      },
      "source": [
        "from sklearn.svm import LinearSVC\n",
        "from sklearn.calibration import CalibratedClassifierCV\n",
        "start=time.time()\n",
        "model = CalibratedClassifierCV(base_estimator=LinearSVC(penalty='l2', dual=False), cv=5)\n",
        "model.fit(X_train_vectorized, y_train)"
      ],
      "execution_count": 0,
      "outputs": [
        {
          "output_type": "execute_result",
          "data": {
            "text/plain": [
              "CalibratedClassifierCV(base_estimator=LinearSVC(C=1.0, class_weight=None, dual=False, fit_intercept=True,\n",
              "     intercept_scaling=1, loss='squared_hinge', max_iter=1000,\n",
              "     multi_class='ovr', penalty='l2', random_state=None, tol=0.0001,\n",
              "     verbose=0),\n",
              "            cv=5, method='sigmoid')"
            ]
          },
          "metadata": {
            "tags": []
          },
          "execution_count": 25
        }
      ]
    },
    {
      "cell_type": "code",
      "metadata": {
        "colab_type": "code",
        "outputId": "191aba75-bee6-4811-b062-7fc80916cd5b",
        "id": "lUEe0x-WQ5WF",
        "colab": {
          "base_uri": "https://localhost:8080/",
          "height": 52
        }
      },
      "source": [
        "X_test_vectorized = vect.transform(X_test)\n",
        "X_test_vectorized = add_feature(X_test_vectorized, X_test.str.len())\n",
        "X_test_vectorized = add_feature(X_test_vectorized, X_test.str.replace(r'\\D+', '').str.len())\n",
        "X_test_vectorized = add_feature(X_test_vectorized, X_test.str.replace(r'\\w+', '').str.len())\n",
        "y_pred = model.predict(X_test_vectorized)\n",
        "Third_LinearSVC =  round((accuracy_score(y_test, y_pred) * 100), 2)\n",
        "Training_Third_LinearSVC = round((model.score(X_train_vectorized, y_train)*100),2)\n",
        "print('LinearSVC training Accuracy is : ',Training_Third_LinearSVC)\n",
        "print('LinearSVC Accuracy is : ',Third_LinearSVC)\n",
        "row=[\"LinearSVC3\",0,0,0,0,0]\n",
        "row[-1]=Third_LinearSVC\n",
        "row[-2]=Training_Third_LinearSVC"
      ],
      "execution_count": 0,
      "outputs": [
        {
          "output_type": "stream",
          "text": [
            "LinearSVC training Accuracy is :  95.44\n",
            "LinearSVC Accuracy is :  94.96\n"
          ],
          "name": "stdout"
        }
      ]
    },
    {
      "cell_type": "code",
      "metadata": {
        "colab_type": "code",
        "outputId": "35381b4b-b394-47f0-816f-82920a76c9f3",
        "id": "-pulVMZ1Q5WH",
        "colab": {
          "base_uri": "https://localhost:8080/",
          "height": 105
        }
      },
      "source": [
        "from sklearn.model_selection import cross_val_score\n",
        "scores = cross_val_score(model, X_train_vectorized, y_train, cv=10, scoring = \"accuracy\")\n",
        "print(\"Scores:\", scores*100)\n",
        "print(\"Mean:\", scores.mean()*100)\n",
        "print(\"Standard Deviation:\", scores.std())\n",
        "print(\"Accuracy:\",scores.mean()*100)"
      ],
      "execution_count": 0,
      "outputs": [
        {
          "output_type": "stream",
          "text": [
            "Scores: [95.14834413 95.03537666 95.20185504 95.22252282 95.25225198 95.08279573\n",
            " 95.05603948 95.01441865 95.16589369 95.20156975]\n",
            "Mean: 95.13810679278055\n",
            "Standard Deviation: 0.0008047986478693334\n",
            "Accuracy: 95.13810679278055\n"
          ],
          "name": "stdout"
        }
      ]
    },
    {
      "cell_type": "code",
      "metadata": {
        "colab_type": "code",
        "outputId": "d25df9e2-0997-481b-f510-b2435af10f69",
        "id": "uq2KRzzQQ5WJ",
        "colab": {
          "base_uri": "https://localhost:8080/",
          "height": 52
        }
      },
      "source": [
        "from sklearn.model_selection import cross_val_predict\n",
        "from sklearn.metrics import confusion_matrix\n",
        "predictions = cross_val_predict(model, X_train_vectorized, y_train, cv=10)\n",
        "confusion_matrix(y_train, predictions)"
      ],
      "execution_count": 0,
      "outputs": [
        {
          "output_type": "execute_result",
          "data": {
            "text/plain": [
              "array([[ 46603,  14055],\n",
              "       [  2299, 273414]])"
            ]
          },
          "metadata": {
            "tags": []
          },
          "execution_count": 28
        }
      ]
    },
    {
      "cell_type": "code",
      "metadata": {
        "colab_type": "code",
        "outputId": "a9125e8f-8aff-40d1-af46-f05bce78f0b6",
        "id": "pYdw832HQ5WP",
        "colab": {
          "base_uri": "https://localhost:8080/",
          "height": 70
        }
      },
      "source": [
        "print(\"Precision: %f \"%precision_score(y_train, predictions))\n",
        "print(\"Recall: %f \"%recall_score(y_train, predictions))\n",
        "print(\"F1: %f\"% f1_score(y_train, predictions))\n",
        "row[1]=round(precision_score(y_train, predictions)*100,2)\n",
        "row[2]=round(recall_score(y_train, predictions)*100,2)\n",
        "row[3]=round(f1_score(y_train, predictions)*100,2)\n"
      ],
      "execution_count": 0,
      "outputs": [
        {
          "output_type": "stream",
          "text": [
            "Precision: 0.951108 \n",
            "Recall: 0.991662 \n",
            "F1: 0.970961\n"
          ],
          "name": "stdout"
        }
      ]
    },
    {
      "cell_type": "code",
      "metadata": {
        "colab_type": "code",
        "id": "2GxEVv8kQ5WX",
        "colab": {}
      },
      "source": [
        "table.append(row)"
      ],
      "execution_count": 0,
      "outputs": []
    },
    {
      "cell_type": "code",
      "metadata": {
        "colab_type": "code",
        "outputId": "bc370a62-2a0d-4dfe-96ec-bd0c486b3a5a",
        "id": "0Y8hw61TQ5WZ",
        "colab": {
          "base_uri": "https://localhost:8080/",
          "height": 34
        }
      },
      "source": [
        "#Precision Recall Curve\n",
        "from sklearn.metrics import precision_recall_curve\n",
        "# getting the probabilities of our predictions y_scores\n",
        "y_scores = model.predict_proba(X_test_vectorized)\n",
        "y_scores = y_scores[:,1]\n",
        "plt.figure(figsize=(14, 7))\n",
        "precision, recall, threshold = precision_recall_curve(y_test, y_scores)\n",
        "plt.show()"
      ],
      "execution_count": 0,
      "outputs": [
        {
          "output_type": "display_data",
          "data": {
            "text/plain": [
              "<Figure size 1008x504 with 0 Axes>"
            ]
          },
          "metadata": {
            "tags": []
          }
        }
      ]
    },
    {
      "cell_type": "code",
      "metadata": {
        "colab_type": "code",
        "outputId": "aad8f463-3a06-4d99-ae86-c1e17a371aec",
        "id": "1eeDTCUyQ5Wb",
        "colab": {
          "base_uri": "https://localhost:8080/",
          "height": 34
        }
      },
      "source": [
        "end=time.time()-start\n",
        "print(end)"
      ],
      "execution_count": 0,
      "outputs": [
        {
          "output_type": "stream",
          "text": [
            "827.1985025405884\n"
          ],
          "name": "stdout"
        }
      ]
    },
    {
      "cell_type": "markdown",
      "metadata": {
        "colab_type": "text",
        "id": "O8rLaMVoQ5Wd"
      },
      "source": [
        "## **AdaBoostClassifier**"
      ]
    },
    {
      "cell_type": "code",
      "metadata": {
        "colab_type": "code",
        "outputId": "1a71e1ff-1ade-4548-9dff-2e39901c0f3e",
        "id": "mS_uWAeaQ5We",
        "colab": {
          "base_uri": "https://localhost:8080/",
          "height": 52
        }
      },
      "source": [
        "from sklearn.ensemble import AdaBoostClassifier\n",
        "model = AdaBoostClassifier()\n",
        "start=time.time()\n",
        "model.fit(X_train_vectorized, y_train)"
      ],
      "execution_count": 0,
      "outputs": [
        {
          "output_type": "execute_result",
          "data": {
            "text/plain": [
              "AdaBoostClassifier(algorithm='SAMME.R', base_estimator=None,\n",
              "          learning_rate=1.0, n_estimators=50, random_state=None)"
            ]
          },
          "metadata": {
            "tags": []
          },
          "execution_count": 33
        }
      ]
    },
    {
      "cell_type": "code",
      "metadata": {
        "colab_type": "code",
        "outputId": "8f55d18c-6463-4d12-fcfa-a68917596a4c",
        "id": "yJ2yLtDqQ5Wh",
        "colab": {
          "base_uri": "https://localhost:8080/",
          "height": 52
        }
      },
      "source": [
        "\n",
        "X_test_vectorized = vect.transform(X_test)\n",
        "X_test_vectorized = add_feature(X_test_vectorized, X_test.str.len())\n",
        "X_test_vectorized = add_feature(X_test_vectorized, X_test.str.replace(r'\\D+', '').str.len())\n",
        "X_test_vectorized = add_feature(X_test_vectorized, X_test.str.replace(r'\\w+', '').str.len())\n",
        "y_pred = model.predict(X_test_vectorized)\n",
        "Third_Adaboost =  round((accuracy_score(y_test, y_pred) * 100), 2)\n",
        "Training_Third_Adaboost = round((model.score(X_train_vectorized, y_train)*100),2)\n",
        "print('Adaboost training Accuracy is : ',Training_Third_Adaboost)\n",
        "print('Adaboost Accuracy is : ',Third_Adaboost)\n",
        "row=[\"AdaBoost3\",0,0,0,0,0]\n",
        "row[-1]=Third_Adaboost\n",
        "row[-2]=Training_Third_Adaboost"
      ],
      "execution_count": 0,
      "outputs": [
        {
          "output_type": "stream",
          "text": [
            "Adaboost training Accuracy is :  86.31\n",
            "Adaboost Accuracy is :  86.46\n"
          ],
          "name": "stdout"
        }
      ]
    },
    {
      "cell_type": "code",
      "metadata": {
        "colab_type": "code",
        "outputId": "f0cbd242-0724-457e-b010-94ce398e1d97",
        "id": "IRZNmXHkQ5Wj",
        "colab": {
          "base_uri": "https://localhost:8080/",
          "height": 105
        }
      },
      "source": [
        "from sklearn.model_selection import cross_val_score\n",
        "scores = cross_val_score(model, X_train_vectorized, y_train, cv=10, scoring = \"accuracy\")\n",
        "print(\"Scores:\", scores*100)\n",
        "print(\"Mean:\", scores.mean()*100)\n",
        "print(\"Standard Deviation:\", scores.std())\n",
        "print(\"Accuracy:\",scores.mean()*100)\n"
      ],
      "execution_count": 0,
      "outputs": [
        {
          "output_type": "stream",
          "text": [
            "Scores: [86.26850586 85.98311433 86.43795707 86.43160805 86.40782472 86.37809555\n",
            " 86.34242055 86.16107263 86.1606612  86.44309668]\n",
            "Mean: 86.30143566364603\n",
            "Standard Deviation: 0.0014712511406821242\n",
            "Accuracy: 86.30143566364603\n"
          ],
          "name": "stdout"
        }
      ]
    },
    {
      "cell_type": "code",
      "metadata": {
        "colab_type": "code",
        "outputId": "bfdca11b-3943-4191-88c2-02f9a3a03d15",
        "id": "YzXLZ9KpQ5Wl",
        "colab": {
          "base_uri": "https://localhost:8080/",
          "height": 52
        }
      },
      "source": [
        "from sklearn.model_selection import cross_val_predict\n",
        "from sklearn.metrics import confusion_matrix\n",
        "predictions = cross_val_predict(model, X_train_vectorized, y_train, cv=10)\n",
        "confusion_matrix(y_train, predictions)"
      ],
      "execution_count": 0,
      "outputs": [
        {
          "output_type": "execute_result",
          "data": {
            "text/plain": [
              "array([[ 19427,  41231],\n",
              "       [  4847, 270866]])"
            ]
          },
          "metadata": {
            "tags": []
          },
          "execution_count": 36
        }
      ]
    },
    {
      "cell_type": "code",
      "metadata": {
        "colab_type": "code",
        "outputId": "acdbcb1c-932c-4cb9-a81c-40efd49a32fe",
        "id": "uh3RM3q5Q5Wn",
        "colab": {
          "base_uri": "https://localhost:8080/",
          "height": 70
        }
      },
      "source": [
        "print(\"Precision: %f \"%precision_score(y_train, predictions))\n",
        "print(\"Recall: %f \"%recall_score(y_train, predictions))\n",
        "print(\"F1: %f\"% f1_score(y_train, predictions))\n",
        "row[1]=round(precision_score(y_train, predictions)*100,2)\n",
        "row[2]=round(recall_score(y_train, predictions)*100,2)\n",
        "row[3]=round(f1_score(y_train, predictions)*100,2)\n"
      ],
      "execution_count": 0,
      "outputs": [
        {
          "output_type": "stream",
          "text": [
            "Precision: 0.867890 \n",
            "Recall: 0.982420 \n",
            "F1: 0.921611\n"
          ],
          "name": "stdout"
        }
      ]
    },
    {
      "cell_type": "code",
      "metadata": {
        "colab_type": "code",
        "id": "DFhZKT4rQ5Wr",
        "colab": {}
      },
      "source": [
        "table.append(row)"
      ],
      "execution_count": 0,
      "outputs": []
    },
    {
      "cell_type": "code",
      "metadata": {
        "colab_type": "code",
        "outputId": "a380a5c1-f71e-45b6-c1fa-59330f4768c4",
        "id": "uZ1FxFXWQ5Wu",
        "colab": {
          "base_uri": "https://localhost:8080/",
          "height": 454
        }
      },
      "source": [
        "#Precision Recall Curve\n",
        "from sklearn.metrics import precision_recall_curve\n",
        "# getting the probabilities of our predictions y_scores\n",
        "y_scores = model.predict_proba(X_test_vectorized)\n",
        "y_scores = y_scores[:,1]\n",
        "precision, recall, threshold = precision_recall_curve(y_test, y_scores)\n",
        "plt.figure(figsize=(14, 7))\n",
        "plot_precision_and_recall(precision, recall, threshold)\n",
        "plt.show()"
      ],
      "execution_count": 0,
      "outputs": [
        {
          "output_type": "display_data",
          "data": {
            "image/png": "[encoded data removed]",
            "text/plain": [
              "<Figure size 1008x504 with 1 Axes>"
            ]
          },
          "metadata": {
            "tags": []
          }
        }
      ]
    },
    {
      "cell_type": "code",
      "metadata": {
        "colab_type": "code",
        "outputId": "1f5bc3b5-53ab-4bc8-ba02-cd3e1192c48b",
        "id": "ycnhEPNSQ5Ww",
        "colab": {
          "base_uri": "https://localhost:8080/",
          "height": 34
        }
      },
      "source": [
        "end=time.time()-start\n",
        "print(end)"
      ],
      "execution_count": 0,
      "outputs": [
        {
          "output_type": "stream",
          "text": [
            "618.0625202655792\n"
          ],
          "name": "stdout"
        }
      ]
    },
    {
      "cell_type": "markdown",
      "metadata": {
        "colab_type": "text",
        "id": "fvkDhHc2Q5Wz"
      },
      "source": [
        "## **LogisticRegression**"
      ]
    },
    {
      "cell_type": "code",
      "metadata": {
        "colab_type": "code",
        "outputId": "f39a9372-0112-448d-ee94-488ce70221bd",
        "id": "fd4BnrQmQ5W0",
        "colab": {
          "base_uri": "https://localhost:8080/",
          "height": 87
        }
      },
      "source": [
        "from sklearn.linear_model import LogisticRegression\n",
        "model = LogisticRegression(solver='liblinear')\n",
        "start=time.time()\n",
        "model.fit(X_train_vectorized, y_train)"
      ],
      "execution_count": 0,
      "outputs": [
        {
          "output_type": "execute_result",
          "data": {
            "text/plain": [
              "LogisticRegression(C=1.0, class_weight=None, dual=False, fit_intercept=True,\n",
              "          intercept_scaling=1, max_iter=100, multi_class='warn',\n",
              "          n_jobs=None, penalty='l2', random_state=None, solver='liblinear',\n",
              "          tol=0.0001, verbose=0, warm_start=False)"
            ]
          },
          "metadata": {
            "tags": []
          },
          "execution_count": 41
        }
      ]
    },
    {
      "cell_type": "code",
      "metadata": {
        "colab_type": "code",
        "outputId": "4feef043-41ee-4d8a-b73f-bb2e9ad8f0cd",
        "id": "cYOYawztQ5W4",
        "colab": {
          "base_uri": "https://localhost:8080/",
          "height": 52
        }
      },
      "source": [
        "X_test_vectorized = vect.transform(X_test)\n",
        "X_test_vectorized = add_feature(X_test_vectorized, X_test.str.len())\n",
        "X_test_vectorized = add_feature(X_test_vectorized, X_test.str.replace(r'\\D+', '').str.len())\n",
        "X_test_vectorized = add_feature(X_test_vectorized, X_test.str.replace(r'\\w+', '').str.len())\n",
        "y_pred = model.predict(X_test_vectorized)\n",
        "Third_LogisticRegression =  round((accuracy_score(y_test, y_pred) * 100), 2)\n",
        "Training_LogisticRegression = round((model.score(X_train_vectorized, y_train)*100),2)\n",
        "print('LogisticRegression training Accuracy is : ',Training_LogisticRegression)\n",
        "print('LogisticRegression Accuracy is : ',Third_LogisticRegression)\n",
        "row=[\"LogisticRegression3\",0,0,0,0,0]\n",
        "row[-1]=Third_LogisticRegression\n",
        "row[-2]=Training_LogisticRegression\n"
      ],
      "execution_count": 0,
      "outputs": [
        {
          "output_type": "stream",
          "text": [
            "LogisticRegression training Accuracy is :  94.31\n",
            "LogisticRegression Accuracy is :  93.9\n"
          ],
          "name": "stdout"
        }
      ]
    },
    {
      "cell_type": "code",
      "metadata": {
        "colab_type": "code",
        "outputId": "aaecdb34-32dd-40af-f0a9-8933025e5c1d",
        "id": "1uob4whAQ5W7",
        "colab": {
          "base_uri": "https://localhost:8080/",
          "height": 105
        }
      },
      "source": [
        "from sklearn.model_selection import cross_val_score\n",
        "scores = cross_val_score(model, X_train_vectorized, y_train, cv=10, scoring = \"accuracy\")\n",
        "print(\"Scores:\", scores*100)\n",
        "print(\"Mean:\", scores.mean()*100)\n",
        "print(\"Standard Deviation:\", scores.std())\n",
        "print(\"Accuracy:\",scores.mean()*100)"
      ],
      "execution_count": 0,
      "outputs": [
        {
          "output_type": "stream",
          "text": [
            "Scores: [94.00083239 93.95623997 94.26838694 94.5982103  94.45848322 94.24443321\n",
            " 94.23254155 93.82525195 94.33047925 94.36912831]\n",
            "Mean: 94.22839871019491\n",
            "Standard Deviation: 0.0022587213155348933\n",
            "Accuracy: 94.22839871019491\n"
          ],
          "name": "stdout"
        }
      ]
    },
    {
      "cell_type": "code",
      "metadata": {
        "colab_type": "code",
        "outputId": "3a2f1e69-d16a-4edb-b13e-576d19e75e4f",
        "id": "bta7mcAHQ5W9",
        "colab": {
          "base_uri": "https://localhost:8080/",
          "height": 52
        }
      },
      "source": [
        "from sklearn.model_selection import cross_val_predict\n",
        "from sklearn.metrics import confusion_matrix\n",
        "predictions = cross_val_predict(model, X_train_vectorized, y_train, cv=10)\n",
        "confusion_matrix(y_train, predictions)"
      ],
      "execution_count": 0,
      "outputs": [
        {
          "output_type": "execute_result",
          "data": {
            "text/plain": [
              "array([[ 42138,  18520],\n",
              "       [   894, 274819]])"
            ]
          },
          "metadata": {
            "tags": []
          },
          "execution_count": 44
        }
      ]
    },
    {
      "cell_type": "code",
      "metadata": {
        "colab_type": "code",
        "outputId": "112fcfcf-105e-4561-e016-50dae396ddb6",
        "id": "hpCipkCiQ5XA",
        "colab": {
          "base_uri": "https://localhost:8080/",
          "height": 70
        }
      },
      "source": [
        "print(\"Precision: %f \"%precision_score(y_train, predictions))\n",
        "print(\"Recall: %f \"%recall_score(y_train, predictions))\n",
        "print(\"F1: %f\"% f1_score(y_train, predictions))\n",
        "row[1]=round(precision_score(y_train, predictions)*100,2)\n",
        "row[2]=round(recall_score(y_train, predictions)*100,2)\n",
        "row[3]=round(f1_score(y_train, predictions)*100,2)"
      ],
      "execution_count": 0,
      "outputs": [
        {
          "output_type": "stream",
          "text": [
            "Precision: 0.936865 \n",
            "Recall: 0.996757 \n",
            "F1: 0.965884\n"
          ],
          "name": "stdout"
        }
      ]
    },
    {
      "cell_type": "code",
      "metadata": {
        "colab_type": "code",
        "id": "hKziAB1RQ5XC",
        "colab": {}
      },
      "source": [
        "table.append(row)"
      ],
      "execution_count": 0,
      "outputs": []
    },
    {
      "cell_type": "code",
      "metadata": {
        "colab_type": "code",
        "outputId": "c5488d46-c87b-4efe-fd5f-cb45a2b5c22b",
        "id": "JkCOm0PnQ5XD",
        "colab": {
          "base_uri": "https://localhost:8080/",
          "height": 454
        }
      },
      "source": [
        "#Precision Recall Curve\n",
        "from sklearn.metrics import precision_recall_curve\n",
        "# getting the probabilities of our predictions y_scores\n",
        "y_scores = model.predict_proba(X_test_vectorized)\n",
        "y_scores = y_scores[:,1]\n",
        "precision, recall, threshold = precision_recall_curve(y_test, y_scores)\n",
        "plt.figure(figsize=(14, 7))\n",
        "plot_precision_and_recall(precision, recall, threshold)\n",
        "plt.show()\n"
      ],
      "execution_count": 0,
      "outputs": [
        {
          "output_type": "display_data",
          "data": {
            "image/png": "[encoded data removed]",
            "text/plain": [
              "<Figure size 1008x504 with 1 Axes>"
            ]
          },
          "metadata": {
            "tags": []
          }
        }
      ]
    },
    {
      "cell_type": "code",
      "metadata": {
        "colab_type": "code",
        "outputId": "e9d274f3-4ff8-4f82-ceee-d4b4b1aff3f9",
        "id": "daYGHZGbQ5XG",
        "colab": {
          "base_uri": "https://localhost:8080/",
          "height": 34
        }
      },
      "source": [
        "end=time.time()-start\n",
        "print(end)"
      ],
      "execution_count": 0,
      "outputs": [
        {
          "output_type": "stream",
          "text": [
            "229.78329062461853\n"
          ],
          "name": "stdout"
        }
      ]
    },
    {
      "cell_type": "markdown",
      "metadata": {
        "colab_type": "text",
        "id": "9ukiSxjDQ5XJ"
      },
      "source": [
        "## Random **Forest**"
      ]
    },
    {
      "cell_type": "code",
      "metadata": {
        "colab_type": "code",
        "outputId": "b81178b4-5921-4d8a-c94a-5f8539519d1a",
        "id": "U-oH4DAzQ5XJ",
        "colab": {
          "base_uri": "https://localhost:8080/",
          "height": 176
        }
      },
      "source": [
        "from sklearn.ensemble import RandomForestClassifier\n",
        "model = RandomForestClassifier()\n",
        "start=time.time()\n",
        "model.fit(X_train_vectorized, y_train)"
      ],
      "execution_count": 0,
      "outputs": [
        {
          "output_type": "stream",
          "text": [
            "/usr/local/lib/python3.6/dist-packages/sklearn/ensemble/forest.py:246: FutureWarning: The default value of n_estimators will change from 10 in version 0.20 to 100 in 0.22.\n",
            "  \"10 in version 0.20 to 100 in 0.22.\", FutureWarning)\n"
          ],
          "name": "stderr"
        },
        {
          "output_type": "execute_result",
          "data": {
            "text/plain": [
              "RandomForestClassifier(bootstrap=True, class_weight=None, criterion='gini',\n",
              "            max_depth=None, max_features='auto', max_leaf_nodes=None,\n",
              "            min_impurity_decrease=0.0, min_impurity_split=None,\n",
              "            min_samples_leaf=1, min_samples_split=2,\n",
              "            min_weight_fraction_leaf=0.0, n_estimators=10, n_jobs=None,\n",
              "            oob_score=False, random_state=None, verbose=0,\n",
              "            warm_start=False)"
            ]
          },
          "metadata": {
            "tags": []
          },
          "execution_count": 49
        }
      ]
    },
    {
      "cell_type": "code",
      "metadata": {
        "colab_type": "code",
        "outputId": "043c75dc-6d20-4b8c-dcf5-235f1dc06f56",
        "id": "Sj4bCs8JQ5XL",
        "colab": {
          "base_uri": "https://localhost:8080/",
          "height": 52
        }
      },
      "source": [
        "X_test_vectorized = vect.transform(X_test)\n",
        "X_test_vectorized = add_feature(X_test_vectorized, X_test.str.len())\n",
        "X_test_vectorized = add_feature(X_test_vectorized, X_test.str.replace(r'\\D+', '').str.len())\n",
        "X_test_vectorized = add_feature(X_test_vectorized, X_test.str.replace(r'\\w+', '').str.len())\n",
        "y_pred = model.predict(X_test_vectorized)\n",
        "Third_RandomForest =  round((accuracy_score(y_test, y_pred) * 100), 2)\n",
        "Training_Third_RandomForest = round((model.score(X_train_vectorized, y_train)*100),2)\n",
        "print('RandomForest training Accuracy is : ',Training_Third_RandomForest)\n",
        "print('RandomForest testing Accuracy is : ',Third_RandomForest)\n",
        "row=[\"RandomForest3\",0.0,0.0,0.0,Training_Third_RandomForest,Third_RandomForest]\n"
      ],
      "execution_count": 0,
      "outputs": [
        {
          "output_type": "stream",
          "text": [
            "RandomForest training Accuracy is :  97.57\n",
            "RandomForest testing Accuracy is :  95.11\n"
          ],
          "name": "stdout"
        }
      ]
    },
    {
      "cell_type": "code",
      "metadata": {
        "colab_type": "code",
        "outputId": "481a8a91-a916-43c2-ea03-817376518e72",
        "id": "MRM3BXxTQ5XN",
        "colab": {
          "base_uri": "https://localhost:8080/",
          "height": 105
        }
      },
      "source": [
        "from sklearn.model_selection import cross_val_score\n",
        "scores = cross_val_score(model, X_train_vectorized, y_train, cv=10, scoring = \"accuracy\")\n",
        "print(\"Scores:\", scores*100)\n",
        "print(\"Mean:\", scores.mean()*100)\n",
        "print(\"Standard Deviation:\", scores.std())\n",
        "print(\"Accuracy:\",scores.mean()*100)"
      ],
      "execution_count": 0,
      "outputs": [
        {
          "output_type": "stream",
          "text": [
            "Scores: [95.16023545 94.91051787 95.13347999 95.24927907 95.22549573 95.12441657\n",
            " 95.05009365 94.93712281 95.2312998  95.14508265]\n",
            "Mean: 95.11670235796635\n",
            "Standard Deviation: 0.0011170689467592638\n",
            "Accuracy: 95.11670235796635\n"
          ],
          "name": "stdout"
        }
      ]
    },
    {
      "cell_type": "code",
      "metadata": {
        "colab_type": "code",
        "outputId": "5f06ab8b-0bb6-46cb-ee8f-7e623b8fc6f7",
        "id": "91cYpnlbQ5XP",
        "colab": {
          "base_uri": "https://localhost:8080/",
          "height": 52
        }
      },
      "source": [
        "from sklearn.model_selection import cross_val_predict\n",
        "from sklearn.metrics import confusion_matrix\n",
        "predictions = cross_val_predict(model, X_train_vectorized, y_train, cv=10)\n",
        "confusion_matrix(y_train, predictions)"
      ],
      "execution_count": 0,
      "outputs": [
        {
          "output_type": "execute_result",
          "data": {
            "text/plain": [
              "array([[ 50006,  10652],\n",
              "       [  5864, 269849]])"
            ]
          },
          "metadata": {
            "tags": []
          },
          "execution_count": 52
        }
      ]
    },
    {
      "cell_type": "code",
      "metadata": {
        "colab_type": "code",
        "outputId": "04fac36c-29e7-4ab3-a399-55e13beecbb6",
        "id": "nbgnkrQqQ5XQ",
        "colab": {
          "base_uri": "https://localhost:8080/",
          "height": 87
        }
      },
      "source": [
        "print(\"Precision: %f \"%precision_score(y_train, predictions))\n",
        "print(\"Recall: %f \"%recall_score(y_train, predictions))\n",
        "print(\"F1: %f\"% f1_score(y_train, predictions))\n",
        "row[1]=round(precision_score(y_train, predictions)*100,2)\n",
        "row[2]=round(recall_score(y_train, predictions)*100,2)\n",
        "row[3]=round(f1_score(y_train, predictions)*100,2)\n",
        "print(row)"
      ],
      "execution_count": 0,
      "outputs": [
        {
          "output_type": "stream",
          "text": [
            "Precision: 0.962025 \n",
            "Recall: 0.978732 \n",
            "F1: 0.970306\n",
            "['RandomForest3', 96.2, 97.87, 97.03, 97.57, 95.11]\n"
          ],
          "name": "stdout"
        }
      ]
    },
    {
      "cell_type": "code",
      "metadata": {
        "colab_type": "code",
        "id": "kbxrveuXQ5XS",
        "colab": {}
      },
      "source": [
        "table.append(row)"
      ],
      "execution_count": 0,
      "outputs": []
    },
    {
      "cell_type": "code",
      "metadata": {
        "colab_type": "code",
        "id": "__oJ6TN_Q5XU",
        "colab": {}
      },
      "source": [
        "#Precision Recall Curve\n",
        "from sklearn.metrics import precision_recall_curve\n",
        "# getting the probabilities of our predictions y_scores\n",
        "y_scores = model.predict_proba(X_test_vectorized)\n",
        "y_scores = y_scores[:,1]\n",
        "precision, recall, threshold = precision_recall_curve(y_test, y_scores)"
      ],
      "execution_count": 0,
      "outputs": []
    },
    {
      "cell_type": "code",
      "metadata": {
        "colab_type": "code",
        "outputId": "d8b1777a-3bb1-4ba4-c0e5-7cc9a1039873",
        "id": "8VYNLmA6Q5XV",
        "colab": {
          "base_uri": "https://localhost:8080/",
          "height": 454
        }
      },
      "source": [
        "\n",
        "plt.figure(figsize=(14, 7))\n",
        "plot_precision_and_recall(precision, recall, threshold)\n",
        "plt.show()"
      ],
      "execution_count": 0,
      "outputs": [
        {
          "output_type": "display_data",
          "data": {
            "image/png": "[encoded data removed]",
            "text/plain": [
              "<Figure size 1008x504 with 1 Axes>"
            ]
          },
          "metadata": {
            "tags": []
          }
        }
      ]
    },
    {
      "cell_type": "code",
      "metadata": {
        "colab_type": "code",
        "outputId": "90583279-398d-4c9c-c0c9-3e54b8a35ec5",
        "id": "D5rmeSQlQ5XX",
        "colab": {
          "base_uri": "https://localhost:8080/",
          "height": 34
        }
      },
      "source": [
        "end=time.time()-start\n",
        "print(end)"
      ],
      "execution_count": 0,
      "outputs": [
        {
          "output_type": "stream",
          "text": [
            "3853.7823214530945\n"
          ],
          "name": "stdout"
        }
      ]
    },
    {
      "cell_type": "code",
      "metadata": {
        "colab_type": "code",
        "outputId": "8ae6c734-0a69-4ada-cc2c-eaf4a2a887f3",
        "id": "-VWmxOEEQ5Xa",
        "colab": {
          "base_uri": "https://localhost:8080/",
          "height": 141
        }
      },
      "source": [
        "# now table is Complete\n",
        "table.pop(0)\n",
        "df3=pd.DataFrame(table,columns=[\"Classifier\",\"Precision\",\"Recall\",\"F1 Score\",\"Training %\",\"Testing %\"])\n",
        "print(df3)"
      ],
      "execution_count": 0,
      "outputs": [
        {
          "output_type": "stream",
          "text": [
            "            Classifier  Precision  Recall  F1 Score  Training %  Testing %\n",
            "0       MultinomialNB3      94.79   98.85     96.78       94.75      94.43\n",
            "1        DecisionTree3      95.49   96.24     95.86       97.67      93.35\n",
            "2           LinearSVC3      95.11   99.17     97.10       95.44      94.96\n",
            "3            AdaBoost3      86.79   98.24     92.16       86.31      86.46\n",
            "4  LogisticRegression3      93.69   99.68     96.59       94.31      93.90\n",
            "5        RandomForest3      96.20   97.87     97.03       97.57      95.11\n"
          ],
          "name": "stdout"
        }
      ]
    }
  ]
}